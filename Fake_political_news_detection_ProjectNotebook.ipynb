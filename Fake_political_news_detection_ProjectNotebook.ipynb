{
  "cells": [
    {
      "cell_type": "markdown",
      "metadata": {
        "id": "ON3dNgxVhvWn"
      },
      "source": [
        "# Fake Political News Detection using NLP\n",
        "## IE7500 Applied NLP for Engineers - Project\n",
        "**Author:** Cosmos Ameyaw Kwakye\n",
        "\n",
        "This notebook implements a complete pipeline for detecting fake political news using the LIAR dataset."
      ]
    },
    {
      "cell_type": "markdown",
      "metadata": {
        "id": "y748u0yehvWq"
      },
      "source": [
        "## 1. Setup and Library Imports"
      ]
    },
    {
      "cell_type": "code",
      "execution_count": 1,
      "metadata": {
        "colab": {
          "base_uri": "https://localhost:8080/"
        },
        "id": "z1rd5Lb9hvWr",
        "outputId": "3837770a-c946-4b6c-84d9-eab5ea6d2a39"
      },
      "outputs": [
        {
          "output_type": "stream",
          "name": "stdout",
          "text": [
            "✓ Core libraries imported successfully\n"
          ]
        }
      ],
      "source": [
        "# Core libraries\n",
        "import pandas as pd\n",
        "import numpy as np\n",
        "import matplotlib.pyplot as plt\n",
        "import seaborn as sns\n",
        "import warnings\n",
        "warnings.filterwarnings('ignore')\n",
        "\n",
        "# Set random seeds for reproducibility\n",
        "RANDOM_SEED = 42\n",
        "np.random.seed(RANDOM_SEED)\n",
        "\n",
        "# Display settings\n",
        "pd.set_option('display.max_columns', None)\n",
        "pd.set_option('display.max_colwidth', 100)\n",
        "plt.style.use('seaborn-v0_8-darkgrid')\n",
        "sns.set_palette(\"husl\")\n",
        "\n",
        "print(\"✓ Core libraries imported successfully\")"
      ]
    },
    {
      "cell_type": "code",
      "execution_count": 2,
      "metadata": {
        "colab": {
          "base_uri": "https://localhost:8080/"
        },
        "id": "nXdRklQ6hvWs",
        "outputId": "eaaf4aa9-2af1-4ab1-d304-8b5b294e9de4"
      },
      "outputs": [
        {
          "output_type": "stream",
          "name": "stdout",
          "text": [
            "✓ NLP libraries imported and NLTK data downloaded\n"
          ]
        }
      ],
      "source": [
        "# NLP and Text Processing\n",
        "import re\n",
        "import string\n",
        "from collections import Counter\n",
        "\n",
        "# NLTK for text preprocessing\n",
        "import nltk\n",
        "from nltk.corpus import stopwords\n",
        "from nltk.tokenize import word_tokenize\n",
        "from nltk.stem import WordNetLemmatizer\n",
        "\n",
        "# Download necessary NLTK data\n",
        "nltk.download('punkt', quiet=True)\n",
        "nltk.download('stopwords', quiet=True)\n",
        "nltk.download('wordnet', quiet=True)\n",
        "nltk.download('omw-1.4', quiet=True)\n",
        "nltk.download('averaged_perceptron_tagger', quiet=True)\n",
        "\n",
        "print(\"✓ NLP libraries imported and NLTK data downloaded\")"
      ]
    },
    {
      "cell_type": "code",
      "execution_count": 3,
      "metadata": {
        "colab": {
          "base_uri": "https://localhost:8080/"
        },
        "id": "TxbLPTYHhvWt",
        "outputId": "ec259710-955f-4d64-a59d-43ae84eecf95"
      },
      "outputs": [
        {
          "output_type": "stream",
          "name": "stdout",
          "text": [
            "✓ Scikit-learn libraries imported\n"
          ]
        }
      ],
      "source": [
        "# Machine Learning - Scikit-learn\n",
        "from sklearn.model_selection import train_test_split, cross_val_score, GridSearchCV\n",
        "from sklearn.feature_extraction.text import TfidfVectorizer, CountVectorizer\n",
        "from sklearn.linear_model import LogisticRegression\n",
        "from sklearn.naive_bayes import MultinomialNB\n",
        "from sklearn.metrics import (\n",
        "    accuracy_score, precision_score, recall_score, f1_score,\n",
        "    classification_report, confusion_matrix, roc_auc_score, roc_curve\n",
        ")\n",
        "from sklearn.preprocessing import LabelEncoder\n",
        "\n",
        "print(\"✓ Scikit-learn libraries imported\")"
      ]
    },
    {
      "cell_type": "code",
      "execution_count": 4,
      "metadata": {
        "colab": {
          "base_uri": "https://localhost:8080/"
        },
        "id": "fPfh2UHkhvWt",
        "outputId": "a536720d-b905-453c-d236-bee3bdadaa1c"
      },
      "outputs": [
        {
          "output_type": "stream",
          "name": "stdout",
          "text": [
            "✓ Deep learning imports ready (commented out - uncomment when needed)\n"
          ]
        }
      ],
      "source": [
        "# Deep Learning Libraries (uncomment when needed for Phase 3 & 4)\n",
        "\n",
        "# For Word Embeddings and MLP\n",
        "# import tensorflow as tf\n",
        "# from tensorflow import keras\n",
        "# from tensorflow.keras.models import Sequential\n",
        "# from tensorflow.keras.layers import Dense, Dropout, Embedding, LSTM, Bidirectional\n",
        "# from tensorflow.keras.preprocessing.text import Tokenizer\n",
        "# from tensorflow.keras.preprocessing.sequence import pad_sequences\n",
        "# from tensorflow.keras.callbacks import EarlyStopping, ModelCheckpoint\n",
        "\n",
        "# OR PyTorch (choose one)\n",
        "# import torch\n",
        "# import torch.nn as nn\n",
        "# from torch.utils.data import Dataset, DataLoader\n",
        "\n",
        "# For BERT (Phase 4)\n",
        "# from transformers import (\n",
        "#     BertTokenizer, BertForSequenceClassification,\n",
        "#     Trainer, TrainingArguments\n",
        "# )\n",
        "\n",
        "print(\"✓ Deep learning imports ready (commented out - uncomment when needed)\")"
      ]
    },
    {
      "cell_type": "markdown",
      "metadata": {
        "id": "2Ev5B8_ehvWu"
      },
      "source": [
        "## 2. Data Loading\n",
        "\n",
        "The LIAR dataset has the following structure:\n",
        "- Column 1: ID\n",
        "- Column 2: Label (6 classes)\n",
        "- Column 3: Statement\n",
        "- Column 4: Subject\n",
        "- Column 5: Speaker\n",
        "- Column 6: Job Title\n",
        "- Column 7: State Info\n",
        "- Column 8: Party Affiliation\n",
        "- Column 9-13: Credit History Counts\n",
        "- Column 14: Context"
      ]
    },
    {
      "cell_type": "code",
      "execution_count": 6,
      "metadata": {
        "colab": {
          "base_uri": "https://localhost:8080/",
          "height": 351
        },
        "id": "B0tbhQ4chvWu",
        "outputId": "23af378d-351f-4599-bd65-6ba729f9fa33"
      },
      "outputs": [
        {
          "output_type": "stream",
          "name": "stdout",
          "text": [
            "Please upload your LIAR dataset files (train.tsv, valid.tsv, test.tsv)\n",
            "======================================================================\n",
            "\n",
            "📁 Click 'Choose Files' to upload train.tsv, valid.tsv, and test.tsv\n"
          ]
        },
        {
          "output_type": "display_data",
          "data": {
            "text/plain": [
              "<IPython.core.display.HTML object>"
            ],
            "text/html": [
              "\n",
              "     <input type=\"file\" id=\"files-5496b700-6f12-4081-8268-96b79c1ad389\" name=\"files[]\" multiple disabled\n",
              "        style=\"border:none\" />\n",
              "     <output id=\"result-5496b700-6f12-4081-8268-96b79c1ad389\">\n",
              "      Upload widget is only available when the cell has been executed in the\n",
              "      current browser session. Please rerun this cell to enable.\n",
              "      </output>\n",
              "      <script>// Copyright 2017 Google LLC\n",
              "//\n",
              "// Licensed under the Apache License, Version 2.0 (the \"License\");\n",
              "// you may not use this file except in compliance with the License.\n",
              "// You may obtain a copy of the License at\n",
              "//\n",
              "//      http://www.apache.org/licenses/LICENSE-2.0\n",
              "//\n",
              "// Unless required by applicable law or agreed to in writing, software\n",
              "// distributed under the License is distributed on an \"AS IS\" BASIS,\n",
              "// WITHOUT WARRANTIES OR CONDITIONS OF ANY KIND, either express or implied.\n",
              "// See the License for the specific language governing permissions and\n",
              "// limitations under the License.\n",
              "\n",
              "/**\n",
              " * @fileoverview Helpers for google.colab Python module.\n",
              " */\n",
              "(function(scope) {\n",
              "function span(text, styleAttributes = {}) {\n",
              "  const element = document.createElement('span');\n",
              "  element.textContent = text;\n",
              "  for (const key of Object.keys(styleAttributes)) {\n",
              "    element.style[key] = styleAttributes[key];\n",
              "  }\n",
              "  return element;\n",
              "}\n",
              "\n",
              "// Max number of bytes which will be uploaded at a time.\n",
              "const MAX_PAYLOAD_SIZE = 100 * 1024;\n",
              "\n",
              "function _uploadFiles(inputId, outputId) {\n",
              "  const steps = uploadFilesStep(inputId, outputId);\n",
              "  const outputElement = document.getElementById(outputId);\n",
              "  // Cache steps on the outputElement to make it available for the next call\n",
              "  // to uploadFilesContinue from Python.\n",
              "  outputElement.steps = steps;\n",
              "\n",
              "  return _uploadFilesContinue(outputId);\n",
              "}\n",
              "\n",
              "// This is roughly an async generator (not supported in the browser yet),\n",
              "// where there are multiple asynchronous steps and the Python side is going\n",
              "// to poll for completion of each step.\n",
              "// This uses a Promise to block the python side on completion of each step,\n",
              "// then passes the result of the previous step as the input to the next step.\n",
              "function _uploadFilesContinue(outputId) {\n",
              "  const outputElement = document.getElementById(outputId);\n",
              "  const steps = outputElement.steps;\n",
              "\n",
              "  const next = steps.next(outputElement.lastPromiseValue);\n",
              "  return Promise.resolve(next.value.promise).then((value) => {\n",
              "    // Cache the last promise value to make it available to the next\n",
              "    // step of the generator.\n",
              "    outputElement.lastPromiseValue = value;\n",
              "    return next.value.response;\n",
              "  });\n",
              "}\n",
              "\n",
              "/**\n",
              " * Generator function which is called between each async step of the upload\n",
              " * process.\n",
              " * @param {string} inputId Element ID of the input file picker element.\n",
              " * @param {string} outputId Element ID of the output display.\n",
              " * @return {!Iterable<!Object>} Iterable of next steps.\n",
              " */\n",
              "function* uploadFilesStep(inputId, outputId) {\n",
              "  const inputElement = document.getElementById(inputId);\n",
              "  inputElement.disabled = false;\n",
              "\n",
              "  const outputElement = document.getElementById(outputId);\n",
              "  outputElement.innerHTML = '';\n",
              "\n",
              "  const pickedPromise = new Promise((resolve) => {\n",
              "    inputElement.addEventListener('change', (e) => {\n",
              "      resolve(e.target.files);\n",
              "    });\n",
              "  });\n",
              "\n",
              "  const cancel = document.createElement('button');\n",
              "  inputElement.parentElement.appendChild(cancel);\n",
              "  cancel.textContent = 'Cancel upload';\n",
              "  const cancelPromise = new Promise((resolve) => {\n",
              "    cancel.onclick = () => {\n",
              "      resolve(null);\n",
              "    };\n",
              "  });\n",
              "\n",
              "  // Wait for the user to pick the files.\n",
              "  const files = yield {\n",
              "    promise: Promise.race([pickedPromise, cancelPromise]),\n",
              "    response: {\n",
              "      action: 'starting',\n",
              "    }\n",
              "  };\n",
              "\n",
              "  cancel.remove();\n",
              "\n",
              "  // Disable the input element since further picks are not allowed.\n",
              "  inputElement.disabled = true;\n",
              "\n",
              "  if (!files) {\n",
              "    return {\n",
              "      response: {\n",
              "        action: 'complete',\n",
              "      }\n",
              "    };\n",
              "  }\n",
              "\n",
              "  for (const file of files) {\n",
              "    const li = document.createElement('li');\n",
              "    li.append(span(file.name, {fontWeight: 'bold'}));\n",
              "    li.append(span(\n",
              "        `(${file.type || 'n/a'}) - ${file.size} bytes, ` +\n",
              "        `last modified: ${\n",
              "            file.lastModifiedDate ? file.lastModifiedDate.toLocaleDateString() :\n",
              "                                    'n/a'} - `));\n",
              "    const percent = span('0% done');\n",
              "    li.appendChild(percent);\n",
              "\n",
              "    outputElement.appendChild(li);\n",
              "\n",
              "    const fileDataPromise = new Promise((resolve) => {\n",
              "      const reader = new FileReader();\n",
              "      reader.onload = (e) => {\n",
              "        resolve(e.target.result);\n",
              "      };\n",
              "      reader.readAsArrayBuffer(file);\n",
              "    });\n",
              "    // Wait for the data to be ready.\n",
              "    let fileData = yield {\n",
              "      promise: fileDataPromise,\n",
              "      response: {\n",
              "        action: 'continue',\n",
              "      }\n",
              "    };\n",
              "\n",
              "    // Use a chunked sending to avoid message size limits. See b/62115660.\n",
              "    let position = 0;\n",
              "    do {\n",
              "      const length = Math.min(fileData.byteLength - position, MAX_PAYLOAD_SIZE);\n",
              "      const chunk = new Uint8Array(fileData, position, length);\n",
              "      position += length;\n",
              "\n",
              "      const base64 = btoa(String.fromCharCode.apply(null, chunk));\n",
              "      yield {\n",
              "        response: {\n",
              "          action: 'append',\n",
              "          file: file.name,\n",
              "          data: base64,\n",
              "        },\n",
              "      };\n",
              "\n",
              "      let percentDone = fileData.byteLength === 0 ?\n",
              "          100 :\n",
              "          Math.round((position / fileData.byteLength) * 100);\n",
              "      percent.textContent = `${percentDone}% done`;\n",
              "\n",
              "    } while (position < fileData.byteLength);\n",
              "  }\n",
              "\n",
              "  // All done.\n",
              "  yield {\n",
              "    response: {\n",
              "      action: 'complete',\n",
              "    }\n",
              "  };\n",
              "}\n",
              "\n",
              "scope.google = scope.google || {};\n",
              "scope.google.colab = scope.google.colab || {};\n",
              "scope.google.colab._files = {\n",
              "  _uploadFiles,\n",
              "  _uploadFilesContinue,\n",
              "};\n",
              "})(self);\n",
              "</script> "
            ]
          },
          "metadata": {}
        },
        {
          "output_type": "stream",
          "name": "stdout",
          "text": [
            "Saving test.tsv to test.tsv\n",
            "Saving train.tsv to train.tsv\n",
            "Saving valid.tsv to valid.tsv\n",
            "\n",
            "✓ All files uploaded successfully!\n",
            "\n",
            "✓ Data loaded successfully!\n",
            "  Training set: 10240 samples\n",
            "  Validation set: 1284 samples\n",
            "  Test set: 1267 samples\n",
            "  Total: 12791 samples\n"
          ]
        }
      ],
      "source": [
        "# Define column names for the LIAR dataset\n",
        "column_names = [\n",
        "    'id', 'label', 'statement', 'subject', 'speaker', 'job_title',\n",
        "    'state_info', 'party_affiliation', 'barely_true_counts',\n",
        "    'false_counts', 'half_true_counts', 'mostly_true_counts',\n",
        "    'pants_on_fire_counts', 'context'\n",
        "]\n",
        "\n",
        "# OPTION 1: Manual Upload in Google Colab\n",
        "print(\"Please upload your LIAR dataset files (train.tsv, valid.tsv, test.tsv)\")\n",
        "print(\"=\" * 70)\n",
        "\n",
        "from google.colab import files\n",
        "import io\n",
        "\n",
        "# Upload files\n",
        "print(\"\\n📁 Click 'Choose Files' to upload train.tsv, valid.tsv, and test.tsv\")\n",
        "uploaded = files.upload()\n",
        "\n",
        "# Check if all files were uploaded\n",
        "required_files = ['train.tsv', 'valid.tsv', 'test.tsv']\n",
        "uploaded_files = list(uploaded.keys())\n",
        "\n",
        "if all(file in uploaded_files for file in required_files):\n",
        "    print(\"\\n✓ All files uploaded successfully!\")\n",
        "\n",
        "    # Load the datasets\n",
        "    train_df = pd.read_csv(io.BytesIO(uploaded['train.tsv']),\n",
        "                           sep='\\t', names=column_names, header=None)\n",
        "    val_df = pd.read_csv(io.BytesIO(uploaded['valid.tsv']),\n",
        "                         sep='\\t', names=column_names, header=None)\n",
        "    test_df = pd.read_csv(io.BytesIO(uploaded['test.tsv']),\n",
        "                          sep='\\t', names=column_names, header=None)\n",
        "\n",
        "    print(f\"\\n✓ Data loaded successfully!\")\n",
        "    print(f\"  Training set: {len(train_df)} samples\")\n",
        "    print(f\"  Validation set: {len(val_df)} samples\")\n",
        "    print(f\"  Test set: {len(test_df)} samples\")\n",
        "    print(f\"  Total: {len(train_df) + len(val_df) + len(test_df)} samples\")\n",
        "\n",
        "else:\n",
        "    print(\"\\n⚠️ Not all required files were uploaded!\")\n",
        "    print(f\"Required: {required_files}\")\n",
        "    print(f\"Uploaded: {uploaded_files}\")\n",
        "    print(\"\\nPlease run this cell again and upload all three files.\")"
      ]
    },
    {
      "cell_type": "markdown",
      "metadata": {
        "id": "tCMdQbKKhvWw"
      },
      "source": [
        "## 3. Initial Data Exploration"
      ]
    },
    {
      "cell_type": "code",
      "execution_count": 7,
      "metadata": {
        "colab": {
          "base_uri": "https://localhost:8080/",
          "height": 1000
        },
        "id": "ENFPeqO2hvWw",
        "outputId": "777669be-e0e4-40b3-fe77-c27e4d31f5db"
      },
      "outputs": [
        {
          "output_type": "stream",
          "name": "stdout",
          "text": [
            "First 5 rows of training data:\n",
            "====================================================================================================\n"
          ]
        },
        {
          "output_type": "execute_result",
          "data": {
            "text/plain": [
              "           id        label  \\\n",
              "0   2635.json        false   \n",
              "1  10540.json    half-true   \n",
              "2    324.json  mostly-true   \n",
              "3   1123.json        false   \n",
              "4   9028.json    half-true   \n",
              "\n",
              "                                                                                             statement  \\\n",
              "0                   Says the Annies List political group supports third-trimester abortions on demand.   \n",
              "1  When did the decline of coal start? It started when natural gas took off that started to begin i...   \n",
              "2  Hillary Clinton agrees with John McCain \"by voting to give George Bush the benefit of the doubt ...   \n",
              "3                       Health care reform legislation is likely to mandate free sex change surgeries.   \n",
              "4                                               The economic turnaround started at the end of my term.   \n",
              "\n",
              "                              subject         speaker             job_title  \\\n",
              "0                            abortion    dwayne-bohac  State representative   \n",
              "1  energy,history,job-accomplishments  scott-surovell        State delegate   \n",
              "2                      foreign-policy    barack-obama             President   \n",
              "3                         health-care    blog-posting                   NaN   \n",
              "4                        economy,jobs   charlie-crist                   NaN   \n",
              "\n",
              "  state_info party_affiliation  barely_true_counts  false_counts  \\\n",
              "0      Texas        republican                 0.0           1.0   \n",
              "1   Virginia          democrat                 0.0           0.0   \n",
              "2   Illinois          democrat                70.0          71.0   \n",
              "3        NaN              none                 7.0          19.0   \n",
              "4    Florida          democrat                15.0           9.0   \n",
              "\n",
              "   half_true_counts  mostly_true_counts  pants_on_fire_counts  \\\n",
              "0               0.0                 0.0                   0.0   \n",
              "1               1.0                 1.0                   0.0   \n",
              "2             160.0               163.0                   9.0   \n",
              "3               3.0                 5.0                  44.0   \n",
              "4              20.0                19.0                   2.0   \n",
              "\n",
              "               context  \n",
              "0             a mailer  \n",
              "1      a floor speech.  \n",
              "2               Denver  \n",
              "3       a news release  \n",
              "4  an interview on CNN  "
            ],
            "text/html": [
              "\n",
              "  <div id=\"df-ad0a2942-65d6-4216-a8d5-718bd5303654\" class=\"colab-df-container\">\n",
              "    <div>\n",
              "<style scoped>\n",
              "    .dataframe tbody tr th:only-of-type {\n",
              "        vertical-align: middle;\n",
              "    }\n",
              "\n",
              "    .dataframe tbody tr th {\n",
              "        vertical-align: top;\n",
              "    }\n",
              "\n",
              "    .dataframe thead th {\n",
              "        text-align: right;\n",
              "    }\n",
              "</style>\n",
              "<table border=\"1\" class=\"dataframe\">\n",
              "  <thead>\n",
              "    <tr style=\"text-align: right;\">\n",
              "      <th></th>\n",
              "      <th>id</th>\n",
              "      <th>label</th>\n",
              "      <th>statement</th>\n",
              "      <th>subject</th>\n",
              "      <th>speaker</th>\n",
              "      <th>job_title</th>\n",
              "      <th>state_info</th>\n",
              "      <th>party_affiliation</th>\n",
              "      <th>barely_true_counts</th>\n",
              "      <th>false_counts</th>\n",
              "      <th>half_true_counts</th>\n",
              "      <th>mostly_true_counts</th>\n",
              "      <th>pants_on_fire_counts</th>\n",
              "      <th>context</th>\n",
              "    </tr>\n",
              "  </thead>\n",
              "  <tbody>\n",
              "    <tr>\n",
              "      <th>0</th>\n",
              "      <td>2635.json</td>\n",
              "      <td>false</td>\n",
              "      <td>Says the Annies List political group supports third-trimester abortions on demand.</td>\n",
              "      <td>abortion</td>\n",
              "      <td>dwayne-bohac</td>\n",
              "      <td>State representative</td>\n",
              "      <td>Texas</td>\n",
              "      <td>republican</td>\n",
              "      <td>0.0</td>\n",
              "      <td>1.0</td>\n",
              "      <td>0.0</td>\n",
              "      <td>0.0</td>\n",
              "      <td>0.0</td>\n",
              "      <td>a mailer</td>\n",
              "    </tr>\n",
              "    <tr>\n",
              "      <th>1</th>\n",
              "      <td>10540.json</td>\n",
              "      <td>half-true</td>\n",
              "      <td>When did the decline of coal start? It started when natural gas took off that started to begin i...</td>\n",
              "      <td>energy,history,job-accomplishments</td>\n",
              "      <td>scott-surovell</td>\n",
              "      <td>State delegate</td>\n",
              "      <td>Virginia</td>\n",
              "      <td>democrat</td>\n",
              "      <td>0.0</td>\n",
              "      <td>0.0</td>\n",
              "      <td>1.0</td>\n",
              "      <td>1.0</td>\n",
              "      <td>0.0</td>\n",
              "      <td>a floor speech.</td>\n",
              "    </tr>\n",
              "    <tr>\n",
              "      <th>2</th>\n",
              "      <td>324.json</td>\n",
              "      <td>mostly-true</td>\n",
              "      <td>Hillary Clinton agrees with John McCain \"by voting to give George Bush the benefit of the doubt ...</td>\n",
              "      <td>foreign-policy</td>\n",
              "      <td>barack-obama</td>\n",
              "      <td>President</td>\n",
              "      <td>Illinois</td>\n",
              "      <td>democrat</td>\n",
              "      <td>70.0</td>\n",
              "      <td>71.0</td>\n",
              "      <td>160.0</td>\n",
              "      <td>163.0</td>\n",
              "      <td>9.0</td>\n",
              "      <td>Denver</td>\n",
              "    </tr>\n",
              "    <tr>\n",
              "      <th>3</th>\n",
              "      <td>1123.json</td>\n",
              "      <td>false</td>\n",
              "      <td>Health care reform legislation is likely to mandate free sex change surgeries.</td>\n",
              "      <td>health-care</td>\n",
              "      <td>blog-posting</td>\n",
              "      <td>NaN</td>\n",
              "      <td>NaN</td>\n",
              "      <td>none</td>\n",
              "      <td>7.0</td>\n",
              "      <td>19.0</td>\n",
              "      <td>3.0</td>\n",
              "      <td>5.0</td>\n",
              "      <td>44.0</td>\n",
              "      <td>a news release</td>\n",
              "    </tr>\n",
              "    <tr>\n",
              "      <th>4</th>\n",
              "      <td>9028.json</td>\n",
              "      <td>half-true</td>\n",
              "      <td>The economic turnaround started at the end of my term.</td>\n",
              "      <td>economy,jobs</td>\n",
              "      <td>charlie-crist</td>\n",
              "      <td>NaN</td>\n",
              "      <td>Florida</td>\n",
              "      <td>democrat</td>\n",
              "      <td>15.0</td>\n",
              "      <td>9.0</td>\n",
              "      <td>20.0</td>\n",
              "      <td>19.0</td>\n",
              "      <td>2.0</td>\n",
              "      <td>an interview on CNN</td>\n",
              "    </tr>\n",
              "  </tbody>\n",
              "</table>\n",
              "</div>\n",
              "    <div class=\"colab-df-buttons\">\n",
              "\n",
              "  <div class=\"colab-df-container\">\n",
              "    <button class=\"colab-df-convert\" onclick=\"convertToInteractive('df-ad0a2942-65d6-4216-a8d5-718bd5303654')\"\n",
              "            title=\"Convert this dataframe to an interactive table.\"\n",
              "            style=\"display:none;\">\n",
              "\n",
              "  <svg xmlns=\"http://www.w3.org/2000/svg\" height=\"24px\" viewBox=\"0 -960 960 960\">\n",
              "    <path d=\"M120-120v-720h720v720H120Zm60-500h600v-160H180v160Zm220 220h160v-160H400v160Zm0 220h160v-160H400v160ZM180-400h160v-160H180v160Zm440 0h160v-160H620v160ZM180-180h160v-160H180v160Zm440 0h160v-160H620v160Z\"/>\n",
              "  </svg>\n",
              "    </button>\n",
              "\n",
              "  <style>\n",
              "    .colab-df-container {\n",
              "      display:flex;\n",
              "      gap: 12px;\n",
              "    }\n",
              "\n",
              "    .colab-df-convert {\n",
              "      background-color: #E8F0FE;\n",
              "      border: none;\n",
              "      border-radius: 50%;\n",
              "      cursor: pointer;\n",
              "      display: none;\n",
              "      fill: #1967D2;\n",
              "      height: 32px;\n",
              "      padding: 0 0 0 0;\n",
              "      width: 32px;\n",
              "    }\n",
              "\n",
              "    .colab-df-convert:hover {\n",
              "      background-color: #E2EBFA;\n",
              "      box-shadow: 0px 1px 2px rgba(60, 64, 67, 0.3), 0px 1px 3px 1px rgba(60, 64, 67, 0.15);\n",
              "      fill: #174EA6;\n",
              "    }\n",
              "\n",
              "    .colab-df-buttons div {\n",
              "      margin-bottom: 4px;\n",
              "    }\n",
              "\n",
              "    [theme=dark] .colab-df-convert {\n",
              "      background-color: #3B4455;\n",
              "      fill: #D2E3FC;\n",
              "    }\n",
              "\n",
              "    [theme=dark] .colab-df-convert:hover {\n",
              "      background-color: #434B5C;\n",
              "      box-shadow: 0px 1px 3px 1px rgba(0, 0, 0, 0.15);\n",
              "      filter: drop-shadow(0px 1px 2px rgba(0, 0, 0, 0.3));\n",
              "      fill: #FFFFFF;\n",
              "    }\n",
              "  </style>\n",
              "\n",
              "    <script>\n",
              "      const buttonEl =\n",
              "        document.querySelector('#df-ad0a2942-65d6-4216-a8d5-718bd5303654 button.colab-df-convert');\n",
              "      buttonEl.style.display =\n",
              "        google.colab.kernel.accessAllowed ? 'block' : 'none';\n",
              "\n",
              "      async function convertToInteractive(key) {\n",
              "        const element = document.querySelector('#df-ad0a2942-65d6-4216-a8d5-718bd5303654');\n",
              "        const dataTable =\n",
              "          await google.colab.kernel.invokeFunction('convertToInteractive',\n",
              "                                                    [key], {});\n",
              "        if (!dataTable) return;\n",
              "\n",
              "        const docLinkHtml = 'Like what you see? Visit the ' +\n",
              "          '<a target=\"_blank\" href=https://colab.research.google.com/notebooks/data_table.ipynb>data table notebook</a>'\n",
              "          + ' to learn more about interactive tables.';\n",
              "        element.innerHTML = '';\n",
              "        dataTable['output_type'] = 'display_data';\n",
              "        await google.colab.output.renderOutput(dataTable, element);\n",
              "        const docLink = document.createElement('div');\n",
              "        docLink.innerHTML = docLinkHtml;\n",
              "        element.appendChild(docLink);\n",
              "      }\n",
              "    </script>\n",
              "  </div>\n",
              "\n",
              "\n",
              "    <div id=\"df-962e463d-02b5-49ad-b185-c4d45cf9c92e\">\n",
              "      <button class=\"colab-df-quickchart\" onclick=\"quickchart('df-962e463d-02b5-49ad-b185-c4d45cf9c92e')\"\n",
              "                title=\"Suggest charts\"\n",
              "                style=\"display:none;\">\n",
              "\n",
              "<svg xmlns=\"http://www.w3.org/2000/svg\" height=\"24px\"viewBox=\"0 0 24 24\"\n",
              "     width=\"24px\">\n",
              "    <g>\n",
              "        <path d=\"M19 3H5c-1.1 0-2 .9-2 2v14c0 1.1.9 2 2 2h14c1.1 0 2-.9 2-2V5c0-1.1-.9-2-2-2zM9 17H7v-7h2v7zm4 0h-2V7h2v10zm4 0h-2v-4h2v4z\"/>\n",
              "    </g>\n",
              "</svg>\n",
              "      </button>\n",
              "\n",
              "<style>\n",
              "  .colab-df-quickchart {\n",
              "      --bg-color: #E8F0FE;\n",
              "      --fill-color: #1967D2;\n",
              "      --hover-bg-color: #E2EBFA;\n",
              "      --hover-fill-color: #174EA6;\n",
              "      --disabled-fill-color: #AAA;\n",
              "      --disabled-bg-color: #DDD;\n",
              "  }\n",
              "\n",
              "  [theme=dark] .colab-df-quickchart {\n",
              "      --bg-color: #3B4455;\n",
              "      --fill-color: #D2E3FC;\n",
              "      --hover-bg-color: #434B5C;\n",
              "      --hover-fill-color: #FFFFFF;\n",
              "      --disabled-bg-color: #3B4455;\n",
              "      --disabled-fill-color: #666;\n",
              "  }\n",
              "\n",
              "  .colab-df-quickchart {\n",
              "    background-color: var(--bg-color);\n",
              "    border: none;\n",
              "    border-radius: 50%;\n",
              "    cursor: pointer;\n",
              "    display: none;\n",
              "    fill: var(--fill-color);\n",
              "    height: 32px;\n",
              "    padding: 0;\n",
              "    width: 32px;\n",
              "  }\n",
              "\n",
              "  .colab-df-quickchart:hover {\n",
              "    background-color: var(--hover-bg-color);\n",
              "    box-shadow: 0 1px 2px rgba(60, 64, 67, 0.3), 0 1px 3px 1px rgba(60, 64, 67, 0.15);\n",
              "    fill: var(--button-hover-fill-color);\n",
              "  }\n",
              "\n",
              "  .colab-df-quickchart-complete:disabled,\n",
              "  .colab-df-quickchart-complete:disabled:hover {\n",
              "    background-color: var(--disabled-bg-color);\n",
              "    fill: var(--disabled-fill-color);\n",
              "    box-shadow: none;\n",
              "  }\n",
              "\n",
              "  .colab-df-spinner {\n",
              "    border: 2px solid var(--fill-color);\n",
              "    border-color: transparent;\n",
              "    border-bottom-color: var(--fill-color);\n",
              "    animation:\n",
              "      spin 1s steps(1) infinite;\n",
              "  }\n",
              "\n",
              "  @keyframes spin {\n",
              "    0% {\n",
              "      border-color: transparent;\n",
              "      border-bottom-color: var(--fill-color);\n",
              "      border-left-color: var(--fill-color);\n",
              "    }\n",
              "    20% {\n",
              "      border-color: transparent;\n",
              "      border-left-color: var(--fill-color);\n",
              "      border-top-color: var(--fill-color);\n",
              "    }\n",
              "    30% {\n",
              "      border-color: transparent;\n",
              "      border-left-color: var(--fill-color);\n",
              "      border-top-color: var(--fill-color);\n",
              "      border-right-color: var(--fill-color);\n",
              "    }\n",
              "    40% {\n",
              "      border-color: transparent;\n",
              "      border-right-color: var(--fill-color);\n",
              "      border-top-color: var(--fill-color);\n",
              "    }\n",
              "    60% {\n",
              "      border-color: transparent;\n",
              "      border-right-color: var(--fill-color);\n",
              "    }\n",
              "    80% {\n",
              "      border-color: transparent;\n",
              "      border-right-color: var(--fill-color);\n",
              "      border-bottom-color: var(--fill-color);\n",
              "    }\n",
              "    90% {\n",
              "      border-color: transparent;\n",
              "      border-bottom-color: var(--fill-color);\n",
              "    }\n",
              "  }\n",
              "</style>\n",
              "\n",
              "      <script>\n",
              "        async function quickchart(key) {\n",
              "          const quickchartButtonEl =\n",
              "            document.querySelector('#' + key + ' button');\n",
              "          quickchartButtonEl.disabled = true;  // To prevent multiple clicks.\n",
              "          quickchartButtonEl.classList.add('colab-df-spinner');\n",
              "          try {\n",
              "            const charts = await google.colab.kernel.invokeFunction(\n",
              "                'suggestCharts', [key], {});\n",
              "          } catch (error) {\n",
              "            console.error('Error during call to suggestCharts:', error);\n",
              "          }\n",
              "          quickchartButtonEl.classList.remove('colab-df-spinner');\n",
              "          quickchartButtonEl.classList.add('colab-df-quickchart-complete');\n",
              "        }\n",
              "        (() => {\n",
              "          let quickchartButtonEl =\n",
              "            document.querySelector('#df-962e463d-02b5-49ad-b185-c4d45cf9c92e button');\n",
              "          quickchartButtonEl.style.display =\n",
              "            google.colab.kernel.accessAllowed ? 'block' : 'none';\n",
              "        })();\n",
              "      </script>\n",
              "    </div>\n",
              "\n",
              "    </div>\n",
              "  </div>\n"
            ],
            "application/vnd.google.colaboratory.intrinsic+json": {
              "type": "dataframe",
              "variable_name": "train_df",
              "summary": "{\n  \"name\": \"train_df\",\n  \"rows\": 10240,\n  \"fields\": [\n    {\n      \"column\": \"id\",\n      \"properties\": {\n        \"dtype\": \"string\",\n        \"num_unique_values\": 10240,\n        \"samples\": [\n          \"10626.json\",\n          \"1520.json\",\n          \"1326.json\"\n        ],\n        \"semantic_type\": \"\",\n        \"description\": \"\"\n      }\n    },\n    {\n      \"column\": \"label\",\n      \"properties\": {\n        \"dtype\": \"category\",\n        \"num_unique_values\": 6,\n        \"samples\": [\n          \"false\",\n          \"half-true\",\n          \"pants-fire\"\n        ],\n        \"semantic_type\": \"\",\n        \"description\": \"\"\n      }\n    },\n    {\n      \"column\": \"statement\",\n      \"properties\": {\n        \"dtype\": \"string\",\n        \"num_unique_values\": 10223,\n        \"samples\": [\n          \"Countries bombed: Obama 7, Bush 4\",\n          \"Says she couldn't take stimulus money because it required \\\"universal building codes.\\\"\",\n          \"In the past decade, K-12 funding has grown six times faster than the rate of enrollment.\"\n        ],\n        \"semantic_type\": \"\",\n        \"description\": \"\"\n      }\n    },\n    {\n      \"column\": \"subject\",\n      \"properties\": {\n        \"dtype\": \"category\",\n        \"num_unique_values\": 3827,\n        \"samples\": [\n          \"military,new-hampshire-2012\",\n          \"city-budget,city-government,county-budget,county-government,taxes\",\n          \"children,families,poverty,welfare\"\n        ],\n        \"semantic_type\": \"\",\n        \"description\": \"\"\n      }\n    },\n    {\n      \"column\": \"speaker\",\n      \"properties\": {\n        \"dtype\": \"category\",\n        \"num_unique_values\": 2910,\n        \"samples\": [\n          \"ken-plum\",\n          \"mike-adams\",\n          \"tom-harkin\"\n        ],\n        \"semantic_type\": \"\",\n        \"description\": \"\"\n      }\n    },\n    {\n      \"column\": \"job_title\",\n      \"properties\": {\n        \"dtype\": \"category\",\n        \"num_unique_values\": 1183,\n        \"samples\": [\n          \"Candidate, Multnomah County commission\",\n          \"policy analyst, The Tax Foundation\",\n          \"campaign committee\"\n        ],\n        \"semantic_type\": \"\",\n        \"description\": \"\"\n      }\n    },\n    {\n      \"column\": \"state_info\",\n      \"properties\": {\n        \"dtype\": \"category\",\n        \"num_unique_values\": 83,\n        \"samples\": [\n          \"Illinois \",\n          \"Texas\",\n          \"Wyoming\"\n        ],\n        \"semantic_type\": \"\",\n        \"description\": \"\"\n      }\n    },\n    {\n      \"column\": \"party_affiliation\",\n      \"properties\": {\n        \"dtype\": \"category\",\n        \"num_unique_values\": 23,\n        \"samples\": [\n          \"tea-party-member\",\n          \"newsmaker\",\n          \"republican\"\n        ],\n        \"semantic_type\": \"\",\n        \"description\": \"\"\n      }\n    },\n    {\n      \"column\": \"barely_true_counts\",\n      \"properties\": {\n        \"dtype\": \"number\",\n        \"std\": 18.9737643185268,\n        \"min\": 0.0,\n        \"max\": 70.0,\n        \"num_unique_values\": 30,\n        \"samples\": [\n          8.0,\n          13.0,\n          26.0\n        ],\n        \"semantic_type\": \"\",\n        \"description\": \"\"\n      }\n    },\n    {\n      \"column\": \"false_counts\",\n      \"properties\": {\n        \"dtype\": \"number\",\n        \"std\": 24.11293628542088,\n        \"min\": 0.0,\n        \"max\": 114.0,\n        \"num_unique_values\": 30,\n        \"samples\": [\n          18.0,\n          43.0,\n          11.0\n        ],\n        \"semantic_type\": \"\",\n        \"description\": \"\"\n      }\n    },\n    {\n      \"column\": \"half_true_counts\",\n      \"properties\": {\n        \"dtype\": \"number\",\n        \"std\": 35.846510979322154,\n        \"min\": 0.0,\n        \"max\": 160.0,\n        \"num_unique_values\": 29,\n        \"samples\": [\n          12.0,\n          7.0,\n          38.0\n        ],\n        \"semantic_type\": \"\",\n        \"description\": \"\"\n      }\n    },\n    {\n      \"column\": \"mostly_true_counts\",\n      \"properties\": {\n        \"dtype\": \"number\",\n        \"std\": 36.15168793284596,\n        \"min\": 0.0,\n        \"max\": 163.0,\n        \"num_unique_values\": 27,\n        \"samples\": [\n          4.0,\n          6.0,\n          2.0\n        ],\n        \"semantic_type\": \"\",\n        \"description\": \"\"\n      }\n    },\n    {\n      \"column\": \"pants_on_fire_counts\",\n      \"properties\": {\n        \"dtype\": \"number\",\n        \"std\": 16.12892735191374,\n        \"min\": 0.0,\n        \"max\": 105.0,\n        \"num_unique_values\": 20,\n        \"samples\": [\n          0.0,\n          6.0,\n          10.0\n        ],\n        \"semantic_type\": \"\",\n        \"description\": \"\"\n      }\n    },\n    {\n      \"column\": \"context\",\n      \"properties\": {\n        \"dtype\": \"category\",\n        \"num_unique_values\": 4345,\n        \"samples\": [\n          \"a broadcast of \\\"The Kelly File\\\"\",\n          \"a Spanish-language radio ad\",\n          \"an appearance on ABC's \\\"This Week.\\\"\"\n        ],\n        \"semantic_type\": \"\",\n        \"description\": \"\"\n      }\n    }\n  ]\n}"
            }
          },
          "metadata": {},
          "execution_count": 7
        }
      ],
      "source": [
        "# Display first few rows\n",
        "print(\"First 5 rows of training data:\")\n",
        "print(\"=\" * 100)\n",
        "train_df.head()"
      ]
    },
    {
      "cell_type": "code",
      "execution_count": 8,
      "metadata": {
        "colab": {
          "base_uri": "https://localhost:8080/"
        },
        "id": "8VVOBJPchvWw",
        "outputId": "cb3c66b8-9388-4dca-d264-69326d8244f2"
      },
      "outputs": [
        {
          "output_type": "stream",
          "name": "stdout",
          "text": [
            "Dataset Information:\n",
            "==================================================\n",
            "<class 'pandas.core.frame.DataFrame'>\n",
            "RangeIndex: 10240 entries, 0 to 10239\n",
            "Data columns (total 14 columns):\n",
            " #   Column                Non-Null Count  Dtype  \n",
            "---  ------                --------------  -----  \n",
            " 0   id                    10240 non-null  object \n",
            " 1   label                 10240 non-null  object \n",
            " 2   statement             10240 non-null  object \n",
            " 3   subject               10238 non-null  object \n",
            " 4   speaker               10238 non-null  object \n",
            " 5   job_title             7342 non-null   object \n",
            " 6   state_info            8030 non-null   object \n",
            " 7   party_affiliation     10238 non-null  object \n",
            " 8   barely_true_counts    10238 non-null  float64\n",
            " 9   false_counts          10238 non-null  float64\n",
            " 10  half_true_counts      10238 non-null  float64\n",
            " 11  mostly_true_counts    10238 non-null  float64\n",
            " 12  pants_on_fire_counts  10238 non-null  float64\n",
            " 13  context               10138 non-null  object \n",
            "dtypes: float64(5), object(9)\n",
            "memory usage: 1.1+ MB\n"
          ]
        }
      ],
      "source": [
        "# Dataset info\n",
        "print(\"Dataset Information:\")\n",
        "print(\"=\" * 50)\n",
        "train_df.info()"
      ]
    },
    {
      "cell_type": "code",
      "execution_count": 9,
      "metadata": {
        "colab": {
          "base_uri": "https://localhost:8080/"
        },
        "id": "8XbTf_aNhvWx",
        "outputId": "840874c5-a1fc-4831-cf60-2033341dfe2a"
      },
      "outputs": [
        {
          "output_type": "stream",
          "name": "stdout",
          "text": [
            "Missing Values:\n",
            "==================================================\n",
            "                      Missing Count  Percentage\n",
            "job_title                      2898   28.300781\n",
            "state_info                     2210   21.582031\n",
            "context                         102    0.996094\n",
            "speaker                           2    0.019531\n",
            "subject                           2    0.019531\n",
            "barely_true_counts                2    0.019531\n",
            "party_affiliation                 2    0.019531\n",
            "false_counts                      2    0.019531\n",
            "half_true_counts                  2    0.019531\n",
            "mostly_true_counts                2    0.019531\n",
            "pants_on_fire_counts              2    0.019531\n"
          ]
        }
      ],
      "source": [
        "# Check for missing values\n",
        "print(\"Missing Values:\")\n",
        "print(\"=\" * 50)\n",
        "missing_values = train_df.isnull().sum()\n",
        "missing_percentage = (missing_values / len(train_df)) * 100\n",
        "missing_df = pd.DataFrame({\n",
        "    'Missing Count': missing_values,\n",
        "    'Percentage': missing_percentage\n",
        "})\n",
        "print(missing_df[missing_df['Missing Count'] > 0].sort_values('Missing Count', ascending=False))"
      ]
    },
    {
      "cell_type": "code",
      "source": [
        "# ============================================\n",
        "# 3. CHECK FOR MISSING VALUES\n",
        "# ============================================\n",
        "\n",
        "print(\"Missing Values:\")\n",
        "print(\"=\" * 50)\n",
        "missing_values = train_df.isnull().sum()\n",
        "missing_percentage = (missing_values / len(train_df)) * 100\n",
        "missing_df = pd.DataFrame({\n",
        "    'Missing Count': missing_values,\n",
        "    'Percentage': missing_percentage\n",
        "})\n",
        "print(missing_df[missing_df['Missing Count'] > 0].sort_values('Missing Count', ascending=False))\n",
        "\n",
        "# ============================================\n",
        "# 4. HANDLE MISSING VALUES (SIMPLE APPROACH)\n",
        "# ============================================\n",
        "\n",
        "print(\"\\n\" + \"=\"*70)\n",
        "print(\"MISSING VALUE HANDLING\")\n",
        "print(\"=\"*70)\n",
        "\n",
        "# Check only the columns we need for classification\n",
        "print(\"\\nFor text classification, we need:\")\n",
        "print(\"  1. 'statement' column (the text to classify)\")\n",
        "print(\"  2. 'label' column (the target variable)\")\n",
        "print(\"\\nChecking these columns:\")\n",
        "\n",
        "missing_statement = train_df['statement'].isnull().sum()\n",
        "missing_label = train_df['label'].isnull().sum()\n",
        "\n",
        "print(f\"  Missing statements: {missing_statement}\")\n",
        "print(f\"  Missing labels:     {missing_label}\")\n",
        "\n",
        "if missing_statement == 0 and missing_label == 0:\n",
        "    print(\"\\n✓ RESULT: No missing values in required columns!\")\n",
        "    print(\"✓ Dataset is ready for text classification.\")\n",
        "    print(\"\\nNote: Missing values exist in metadata columns (job_title, state_info),\")\n",
        "    print(\"      but these are not used in our TF-IDF text classification approach.\")\n",
        "else:\n",
        "    print(f\"\\n⚠️ Found {missing_statement + missing_label} rows with missing critical data\")\n",
        "    print(\"Removing these rows...\")\n",
        "\n",
        "    train_df = train_df.dropna(subset=['statement', 'label']).reset_index(drop=True)\n",
        "    val_df = val_df.dropna(subset=['statement', 'label']).reset_index(drop=True)\n",
        "    test_df = test_df.dropna(subset=['statement', 'label']).reset_index(drop=True)\n",
        "\n",
        "    print(\"✓ Rows removed\")\n",
        "\n",
        "print(\"\\n\" + \"=\"*70)\n",
        "print(f\"Final dataset sizes:\")\n",
        "print(f\"  Training:   {len(train_df)} samples\")\n",
        "print(f\"  Validation: {len(val_df)} samples\")\n",
        "print(f\"  Test:       {len(test_df)} samples\")\n",
        "print(\"=\"*70 + \"\\n\")"
      ],
      "metadata": {
        "colab": {
          "base_uri": "https://localhost:8080/"
        },
        "id": "im0kBsiNmAHd",
        "outputId": "edb39b8c-6780-43b9-8a1c-ed43b48f51ff"
      },
      "execution_count": 10,
      "outputs": [
        {
          "output_type": "stream",
          "name": "stdout",
          "text": [
            "Missing Values:\n",
            "==================================================\n",
            "                      Missing Count  Percentage\n",
            "job_title                      2898   28.300781\n",
            "state_info                     2210   21.582031\n",
            "context                         102    0.996094\n",
            "speaker                           2    0.019531\n",
            "subject                           2    0.019531\n",
            "barely_true_counts                2    0.019531\n",
            "party_affiliation                 2    0.019531\n",
            "false_counts                      2    0.019531\n",
            "half_true_counts                  2    0.019531\n",
            "mostly_true_counts                2    0.019531\n",
            "pants_on_fire_counts              2    0.019531\n",
            "\n",
            "======================================================================\n",
            "MISSING VALUE HANDLING\n",
            "======================================================================\n",
            "\n",
            "For text classification, we need:\n",
            "  1. 'statement' column (the text to classify)\n",
            "  2. 'label' column (the target variable)\n",
            "\n",
            "Checking these columns:\n",
            "  Missing statements: 0\n",
            "  Missing labels:     0\n",
            "\n",
            "✓ RESULT: No missing values in required columns!\n",
            "✓ Dataset is ready for text classification.\n",
            "\n",
            "Note: Missing values exist in metadata columns (job_title, state_info),\n",
            "      but these are not used in our TF-IDF text classification approach.\n",
            "\n",
            "======================================================================\n",
            "Final dataset sizes:\n",
            "  Training:   10240 samples\n",
            "  Validation: 1284 samples\n",
            "  Test:       1267 samples\n",
            "======================================================================\n",
            "\n"
          ]
        }
      ]
    },
    {
      "cell_type": "code",
      "source": [
        "# Simple visualization of what we're using\n",
        "import matplotlib.pyplot as plt\n",
        "\n",
        "fig, ax = plt.subplots(figsize=(10, 6))\n",
        "\n",
        "columns = ['statement', 'label', 'job_title', 'state_info', 'other metadata']\n",
        "missing_pct = [0, 0, 28.3, 21.6, 5.0]  # Approximate percentages\n",
        "used_for_model = [True, True, False, False, False]\n",
        "\n",
        "colors = ['green' if used else 'gray' for used in used_for_model]\n",
        "\n",
        "bars = ax.bar(columns, missing_pct, color=colors, alpha=0.7)\n",
        "ax.set_ylabel('Missing Values (%)', fontsize=12)\n",
        "ax.set_title('Missing Values by Column (Green = Used in Model)', fontsize=14, fontweight='bold')\n",
        "ax.axhline(y=0, color='black', linestyle='-', linewidth=0.5)\n",
        "\n",
        "# Add value labels\n",
        "for bar, pct in zip(bars, missing_pct):\n",
        "    height = bar.get_height()\n",
        "    ax.text(bar.get_x() + bar.get_width()/2., height,\n",
        "            f'{pct:.1f}%', ha='center', va='bottom')\n",
        "\n",
        "plt.xticks(rotation=45, ha='right')\n",
        "plt.tight_layout()\n",
        "plt.show()\n",
        "\n",
        "print(\"✓ We only use columns with 0% missing values (statement and label)\")"
      ],
      "metadata": {
        "colab": {
          "base_uri": "https://localhost:8080/",
          "height": 624
        },
        "id": "OuTjzr8HmQJd",
        "outputId": "b69390ba-1816-41cc-e3f1-61a2dc738d47"
      },
      "execution_count": 11,
      "outputs": [
        {
          "output_type": "display_data",
          "data": {
            "text/plain": [
              "<Figure size 1000x600 with 1 Axes>"
            ],
            "image/png": "[encoded data removed]"
          },
          "metadata": {}
        },
        {
          "output_type": "stream",
          "name": "stdout",
          "text": [
            "✓ We only use columns with 0% missing values (statement and label)\n"
          ]
        }
      ]
    },
    {
      "cell_type": "code",
      "execution_count": 12,
      "metadata": {
        "colab": {
          "base_uri": "https://localhost:8080/"
        },
        "id": "Mq04Q-GwhvWx",
        "outputId": "fd604fa4-9c21-43f1-cc4a-5b9f5c7d7685"
      },
      "outputs": [
        {
          "output_type": "stream",
          "name": "stdout",
          "text": [
            "Label Distribution:\n",
            "==================================================\n",
            "label\n",
            "half-true      2114\n",
            "false          1995\n",
            "mostly-true    1962\n",
            "true           1676\n",
            "barely-true    1654\n",
            "pants-fire      839\n",
            "Name: count, dtype: int64\n",
            "\n",
            "Percentages:\n",
            "label\n",
            "half-true      20.64\n",
            "false          19.48\n",
            "mostly-true    19.16\n",
            "true           16.37\n",
            "barely-true    16.15\n",
            "pants-fire      8.19\n",
            "Name: count, dtype: float64\n"
          ]
        }
      ],
      "source": [
        "# Label distribution\n",
        "print(\"Label Distribution:\")\n",
        "print(\"=\" * 50)\n",
        "label_counts = train_df['label'].value_counts()\n",
        "print(label_counts)\n",
        "print(f\"\\nPercentages:\")\n",
        "print((label_counts / len(train_df) * 100).round(2))"
      ]
    },
    {
      "cell_type": "code",
      "execution_count": 13,
      "metadata": {
        "colab": {
          "base_uri": "https://localhost:8080/",
          "height": 507
        },
        "id": "Vk1azQE2hvWx",
        "outputId": "1ed6300e-1041-49d4-e811-d2e9e47d04a3"
      },
      "outputs": [
        {
          "output_type": "display_data",
          "data": {
            "text/plain": [
              "<Figure size 1500x500 with 2 Axes>"
            ],
            "image/png": "[encoded data removed]"
          },
          "metadata": {}
        }
      ],
      "source": [
        "# Visualize label distribution\n",
        "fig, axes = plt.subplots(1, 2, figsize=(15, 5))\n",
        "\n",
        "# Count plot\n",
        "label_counts.plot(kind='bar', ax=axes[0], color='steelblue')\n",
        "axes[0].set_title('Label Distribution (Count)', fontsize=14, fontweight='bold')\n",
        "axes[0].set_xlabel('Label', fontsize=12)\n",
        "axes[0].set_ylabel('Count', fontsize=12)\n",
        "axes[0].tick_params(axis='x', rotation=45)\n",
        "\n",
        "# Pie chart\n",
        "axes[1].pie(label_counts, labels=label_counts.index, autopct='%1.1f%%', startangle=90)\n",
        "axes[1].set_title('Label Distribution (Percentage)', fontsize=14, fontweight='bold')\n",
        "\n",
        "plt.tight_layout()\n",
        "plt.show()"
      ]
    },
    {
      "cell_type": "code",
      "execution_count": 14,
      "metadata": {
        "colab": {
          "base_uri": "https://localhost:8080/"
        },
        "id": "YbZANPpthvWy",
        "outputId": "19f89982-ca1a-4421-bad6-45e57e9a9bf0"
      },
      "outputs": [
        {
          "output_type": "stream",
          "name": "stdout",
          "text": [
            "Statement Length Statistics:\n",
            "==================================================\n",
            "       statement_length    word_count\n",
            "count      10240.000000  10240.000000\n",
            "mean         106.918750     18.010059\n",
            "std           59.917722      9.658572\n",
            "min           11.000000      2.000000\n",
            "25%           73.000000     12.000000\n",
            "50%           99.000000     17.000000\n",
            "75%          132.250000     22.000000\n",
            "max         3192.000000    467.000000\n"
          ]
        }
      ],
      "source": [
        "# Statement length analysis\n",
        "train_df['statement_length'] = train_df['statement'].astype(str).apply(len)\n",
        "train_df['word_count'] = train_df['statement'].astype(str).apply(lambda x: len(x.split()))\n",
        "\n",
        "print(\"Statement Length Statistics:\")\n",
        "print(\"=\" * 50)\n",
        "print(train_df[['statement_length', 'word_count']].describe())"
      ]
    },
    {
      "cell_type": "code",
      "execution_count": 15,
      "metadata": {
        "colab": {
          "base_uri": "https://localhost:8080/",
          "height": 458
        },
        "id": "JTLOD2hEhvWy",
        "outputId": "0e05c59c-a7a9-4b16-f8fa-5fdd4acd289b"
      },
      "outputs": [
        {
          "output_type": "display_data",
          "data": {
            "text/plain": [
              "<Figure size 1500x500 with 2 Axes>"
            ],
            "image/png": "[encoded data removed]"
          },
          "metadata": {}
        }
      ],
      "source": [
        "# Visualize statement lengths\n",
        "fig, axes = plt.subplots(1, 2, figsize=(15, 5))\n",
        "\n",
        "axes[0].hist(train_df['statement_length'], bins=50, color='skyblue', edgecolor='black')\n",
        "axes[0].set_title('Distribution of Statement Length (Characters)', fontsize=14, fontweight='bold')\n",
        "axes[0].set_xlabel('Number of Characters', fontsize=12)\n",
        "axes[0].set_ylabel('Frequency', fontsize=12)\n",
        "\n",
        "axes[1].hist(train_df['word_count'], bins=50, color='lightcoral', edgecolor='black')\n",
        "axes[1].set_title('Distribution of Word Count', fontsize=14, fontweight='bold')\n",
        "axes[1].set_xlabel('Number of Words', fontsize=12)\n",
        "axes[1].set_ylabel('Frequency', fontsize=12)\n",
        "\n",
        "plt.tight_layout()\n",
        "plt.show()"
      ]
    },
    {
      "cell_type": "code",
      "execution_count": 16,
      "metadata": {
        "colab": {
          "base_uri": "https://localhost:8080/"
        },
        "id": "0O__awBChvWy",
        "outputId": "a1480265-d363-49ef-b3a0-9d4e992503cf"
      },
      "outputs": [
        {
          "output_type": "stream",
          "name": "stdout",
          "text": [
            "\n",
            "Top 10 Speakers:\n",
            "==================================================\n",
            "speaker\n",
            "barack-obama       488\n",
            "donald-trump       273\n",
            "hillary-clinton    239\n",
            "mitt-romney        176\n",
            "scott-walker       149\n",
            "john-mccain        148\n",
            "rick-perry         142\n",
            "chain-email        142\n",
            "marco-rubio        117\n",
            "rick-scott         115\n",
            "Name: count, dtype: int64\n",
            "\n",
            "Top 10 Subjects:\n",
            "==================================================\n",
            "subject\n",
            "health-care             381\n",
            "taxes                   308\n",
            "immigration             253\n",
            "elections               252\n",
            "education               237\n",
            "candidates-biography    190\n",
            "economy                 137\n",
            "guns                    130\n",
            "economy,jobs            125\n",
            "federal-budget          121\n",
            "Name: count, dtype: int64\n"
          ]
        }
      ],
      "source": [
        "# Top speakers and subjects\n",
        "print(\"\\nTop 10 Speakers:\")\n",
        "print(\"=\" * 50)\n",
        "print(train_df['speaker'].value_counts().head(10))\n",
        "\n",
        "print(\"\\nTop 10 Subjects:\")\n",
        "print(\"=\" * 50)\n",
        "print(train_df['subject'].value_counts().head(10))"
      ]
    },
    {
      "cell_type": "markdown",
      "metadata": {
        "id": "BuEn97S-hvWz"
      },
      "source": [
        "## 4. Data Preprocessing\n",
        "\n",
        "### 4.1 Create Binary Labels"
      ]
    },
    {
      "cell_type": "code",
      "execution_count": 17,
      "metadata": {
        "colab": {
          "base_uri": "https://localhost:8080/"
        },
        "id": "2cZLs6N6hvWz",
        "outputId": "844ef6bc-e5c0-403e-afcb-c47b372eb0d1"
      },
      "outputs": [
        {
          "output_type": "stream",
          "name": "stdout",
          "text": [
            "Binary Label Distribution (Training Set):\n",
            "==================================================\n",
            "binary_label\n",
            "1    5752\n",
            "0    4488\n",
            "Name: count, dtype: int64\n",
            "\n",
            "0 = Fake, 1 = Real\n",
            "Fake: 43.83%\n",
            "Real: 56.17%\n"
          ]
        }
      ],
      "source": [
        "# Create binary labels: Fake (0) vs Real (1)\n",
        "# Fake: pants-fire, false, barely-true\n",
        "# Real: half-true, mostly-true, true\n",
        "\n",
        "def create_binary_label(label):\n",
        "    \"\"\"\n",
        "    Convert 6-class labels to binary classification\n",
        "    \"\"\"\n",
        "    fake_labels = ['pants-fire', 'false', 'barely-true']\n",
        "    real_labels = ['half-true', 'mostly-true', 'true']\n",
        "\n",
        "    if label in fake_labels:\n",
        "        return 0  # Fake\n",
        "    elif label in real_labels:\n",
        "        return 1  # Real\n",
        "    else:\n",
        "        return None  # Unknown\n",
        "\n",
        "# Apply to all datasets\n",
        "train_df['binary_label'] = train_df['label'].apply(create_binary_label)\n",
        "val_df['binary_label'] = val_df['label'].apply(create_binary_label)\n",
        "test_df['binary_label'] = test_df['label'].apply(create_binary_label)\n",
        "\n",
        "print(\"Binary Label Distribution (Training Set):\")\n",
        "print(\"=\" * 50)\n",
        "print(train_df['binary_label'].value_counts())\n",
        "print(f\"\\n0 = Fake, 1 = Real\")\n",
        "print(f\"Fake: {(train_df['binary_label'] == 0).sum() / len(train_df) * 100:.2f}%\")\n",
        "print(f\"Real: {(train_df['binary_label'] == 1).sum() / len(train_df) * 100:.2f}%\")"
      ]
    },
    {
      "cell_type": "markdown",
      "metadata": {
        "id": "u7vpVupqhvWz"
      },
      "source": [
        "### 4.2 Text Preprocessing Functions"
      ]
    },
    {
      "cell_type": "code",
      "execution_count": 18,
      "metadata": {
        "colab": {
          "base_uri": "https://localhost:8080/"
        },
        "id": "y9kOgP6lhvWz",
        "outputId": "2e23c3d8-2a40-4caa-cd59-13cbf2a72def"
      },
      "outputs": [
        {
          "output_type": "stream",
          "name": "stdout",
          "text": [
            "✓ Preprocessing functions defined\n"
          ]
        }
      ],
      "source": [
        "# Initialize preprocessing tools\n",
        "lemmatizer = WordNetLemmatizer()\n",
        "stop_words = set(stopwords.words('english'))\n",
        "\n",
        "def clean_text(text):\n",
        "    \"\"\"\n",
        "    Basic text cleaning: lowercase, remove special characters\n",
        "    \"\"\"\n",
        "    if pd.isna(text):\n",
        "        return \"\"\n",
        "\n",
        "    # Convert to lowercase\n",
        "    text = str(text).lower()\n",
        "\n",
        "    # Remove URLs\n",
        "    text = re.sub(r'http\\S+|www\\S+|https\\S+', '', text, flags=re.MULTILINE)\n",
        "\n",
        "    # Remove email addresses\n",
        "    text = re.sub(r'\\S+@\\S+', '', text)\n",
        "\n",
        "    # Remove mentions and hashtags (if any)\n",
        "    text = re.sub(r'@\\w+|#\\w+', '', text)\n",
        "\n",
        "    # Remove punctuation\n",
        "    text = text.translate(str.maketrans('', '', string.punctuation))\n",
        "\n",
        "    # Remove extra whitespace\n",
        "    text = ' '.join(text.split())\n",
        "\n",
        "    return text\n",
        "\n",
        "def tokenize_text(text):\n",
        "    \"\"\"\n",
        "    Tokenize text into words\n",
        "    \"\"\"\n",
        "    return word_tokenize(text)\n",
        "\n",
        "def remove_stopwords(tokens):\n",
        "    \"\"\"\n",
        "    Remove stopwords from token list\n",
        "    \"\"\"\n",
        "    return [word for word in tokens if word not in stop_words and len(word) > 2]\n",
        "\n",
        "def lemmatize_tokens(tokens):\n",
        "    \"\"\"\n",
        "    Lemmatize tokens\n",
        "    \"\"\"\n",
        "    return [lemmatizer.lemmatize(word) for word in tokens]\n",
        "\n",
        "def preprocess_text(text):\n",
        "    \"\"\"\n",
        "    Complete preprocessing pipeline\n",
        "    \"\"\"\n",
        "    # Clean text\n",
        "    text = clean_text(text)\n",
        "\n",
        "    # Tokenize\n",
        "    tokens = tokenize_text(text)\n",
        "\n",
        "    # Remove stopwords\n",
        "    tokens = remove_stopwords(tokens)\n",
        "\n",
        "    # Lemmatize\n",
        "    tokens = lemmatize_tokens(tokens)\n",
        "\n",
        "    # Join back to string\n",
        "    return ' '.join(tokens)\n",
        "\n",
        "print(\"✓ Preprocessing functions defined\")"
      ]
    },
    {
      "cell_type": "code",
      "execution_count": 20,
      "metadata": {
        "colab": {
          "base_uri": "https://localhost:8080/"
        },
        "id": "BDjkJ1rGhvW0",
        "outputId": "3b822d12-28c4-4e4b-e56a-94aca3a0ddcd"
      },
      "outputs": [
        {
          "output_type": "stream",
          "name": "stderr",
          "text": [
            "[nltk_data] Downloading package punkt_tab to /root/nltk_data...\n",
            "[nltk_data]   Unzipping tokenizers/punkt_tab.zip.\n"
          ]
        },
        {
          "output_type": "stream",
          "name": "stdout",
          "text": [
            "Preprocessing Examples:\n",
            "====================================================================================================\n",
            "\n",
            "Original 1:\n",
            "  Says the Annies List political group supports third-trimester abortions on demand.\n",
            "\n",
            "Processed 1:\n",
            "  say annies list political group support thirdtrimester abortion demand\n",
            "----------------------------------------------------------------------------------------------------\n",
            "\n",
            "Original 2:\n",
            "  When did the decline of coal start? It started when natural gas took off that started to begin in (President George W.) Bushs administration.\n",
            "\n",
            "Processed 2:\n",
            "  decline coal start started natural gas took started begin president george bush administration\n",
            "----------------------------------------------------------------------------------------------------\n",
            "\n",
            "Original 3:\n",
            "  Hillary Clinton agrees with John McCain \"by voting to give George Bush the benefit of the doubt on Iran.\"\n",
            "\n",
            "Processed 3:\n",
            "  hillary clinton agrees john mccain voting give george bush benefit doubt iran\n",
            "----------------------------------------------------------------------------------------------------\n"
          ]
        }
      ],
      "source": [
        "import nltk\n",
        "nltk.download('punkt_tab')\n",
        "\n",
        "# Test preprocessing on sample statements\n",
        "print(\"Preprocessing Examples:\")\n",
        "print(\"=\" * 100)\n",
        "\n",
        "for i in range(min(3, len(train_df))):\n",
        "    original = train_df['statement'].iloc[i]\n",
        "    processed = preprocess_text(original)\n",
        "\n",
        "    print(f\"\\nOriginal {i+1}:\")\n",
        "    print(f\"  {original}\")\n",
        "    print(f\"\\nProcessed {i+1}:\")\n",
        "    print(f\"  {processed}\")\n",
        "    print(\"-\" * 100)"
      ]
    },
    {
      "cell_type": "code",
      "execution_count": 21,
      "metadata": {
        "colab": {
          "base_uri": "https://localhost:8080/"
        },
        "id": "t8BBiL3FhvW0",
        "outputId": "019a7bc5-b8d2-4293-8d93-2d2d21e61409"
      },
      "outputs": [
        {
          "output_type": "stream",
          "name": "stdout",
          "text": [
            "Applying preprocessing to datasets...\n",
            "This may take a few minutes...\n",
            "\n",
            "✓ Preprocessing complete!\n",
            "  Training set: 10240 samples processed\n",
            "  Validation set: 1284 samples processed\n",
            "  Test set: 1267 samples processed\n"
          ]
        }
      ],
      "source": [
        "# Apply preprocessing to all datasets\n",
        "print(\"Applying preprocessing to datasets...\")\n",
        "print(\"This may take a few minutes...\\n\")\n",
        "\n",
        "train_df['processed_statement'] = train_df['statement'].apply(preprocess_text)\n",
        "val_df['processed_statement'] = val_df['statement'].apply(preprocess_text)\n",
        "test_df['processed_statement'] = test_df['statement'].apply(preprocess_text)\n",
        "\n",
        "print(\"✓ Preprocessing complete!\")\n",
        "print(f\"  Training set: {len(train_df)} samples processed\")\n",
        "print(f\"  Validation set: {len(val_df)} samples processed\")\n",
        "print(f\"  Test set: {len(test_df)} samples processed\")"
      ]
    },
    {
      "cell_type": "markdown",
      "metadata": {
        "id": "AlBQpy8EhvW0"
      },
      "source": [
        "## 5. Prepare Data for Modeling"
      ]
    },
    {
      "cell_type": "code",
      "execution_count": 22,
      "metadata": {
        "colab": {
          "base_uri": "https://localhost:8080/"
        },
        "id": "w-MSGQkMhvW0",
        "outputId": "d1fb8d0b-bebc-4cf6-8c80-d0daaebf1d23"
      },
      "outputs": [
        {
          "output_type": "stream",
          "name": "stdout",
          "text": [
            "Data prepared for modeling:\n",
            "==================================================\n",
            "Training set: 10240 samples\n",
            "Validation set: 1284 samples\n",
            "Test set: 1267 samples\n",
            "\n",
            "Class distribution in training set:\n",
            "  Fake (0): 4488\n",
            "  Real (1): 5752\n"
          ]
        }
      ],
      "source": [
        "# Extract features and labels\n",
        "X_train = train_df['processed_statement'].values\n",
        "y_train = train_df['binary_label'].values\n",
        "\n",
        "X_val = val_df['processed_statement'].values\n",
        "y_val = val_df['binary_label'].values\n",
        "\n",
        "X_test = test_df['processed_statement'].values\n",
        "y_test = test_df['binary_label'].values\n",
        "\n",
        "print(\"Data prepared for modeling:\")\n",
        "print(\"=\" * 50)\n",
        "print(f\"Training set: {X_train.shape[0]} samples\")\n",
        "print(f\"Validation set: {X_val.shape[0]} samples\")\n",
        "print(f\"Test set: {X_test.shape[0]} samples\")\n",
        "print(f\"\\nClass distribution in training set:\")\n",
        "print(f\"  Fake (0): {(y_train == 0).sum()}\")\n",
        "print(f\"  Real (1): {(y_train == 1).sum()}\")"
      ]
    },
    {
      "cell_type": "markdown",
      "metadata": {
        "id": "q2bqCqyPhvW1"
      },
      "source": [
        "## 6. Save Preprocessed Data"
      ]
    },
    {
      "cell_type": "code",
      "execution_count": 23,
      "metadata": {
        "colab": {
          "base_uri": "https://localhost:8080/"
        },
        "id": "2fHiJapPhvW1",
        "outputId": "bbe4f616-18a3-4260-cdc0-cee0e9a4e32c"
      },
      "outputs": [
        {
          "output_type": "stream",
          "name": "stdout",
          "text": [
            "✓ Preprocessed data saved!\n",
            "  Files: train_preprocessed.csv, val_preprocessed.csv, test_preprocessed.csv\n"
          ]
        }
      ],
      "source": [
        "# Save preprocessed dataframes for future use\n",
        "train_df.to_csv('train_preprocessed.csv', index=False)\n",
        "val_df.to_csv('val_preprocessed.csv', index=False)\n",
        "test_df.to_csv('test_preprocessed.csv', index=False)\n",
        "\n",
        "print(\"✓ Preprocessed data saved!\")\n",
        "print(\"  Files: train_preprocessed.csv, val_preprocessed.csv, test_preprocessed.csv\")"
      ]
    },
    {
      "cell_type": "markdown",
      "metadata": {
        "id": "KRq4Q7znhvW1"
      },
      "source": [
        "## Next Steps\n",
        "\n",
        "Now that we have preprocessed data, we can proceed to:\n",
        "\n",
        "1. **Phase 2: Baseline Models**\n",
        "   - TF-IDF vectorization\n",
        "   - Logistic Regression\n",
        "   - Naive Bayes\n",
        "\n",
        "2. **Phase 3: Word Embeddings + MLP**\n",
        "   - Load pre-trained embeddings (GloVe/Word2Vec)\n",
        "   - Build neural network models\n",
        "\n",
        "3. **Phase 4: BERT Fine-tuning**\n",
        "   - Prepare data for BERT\n",
        "   - Fine-tune pre-trained BERT model\n",
        "\n",
        "Continue to the next notebook for baseline modeling!"
      ]
    },
    {
      "cell_type": "code",
      "source": [
        "# ============================================\n",
        "# PHASE 2: BASELINE MODELS\n",
        "# ============================================\n",
        "\n",
        "print(\"\\n\" + \"=\"*70)\n",
        "print(\"PHASE 2: BUILDING BASELINE MODELS\")\n",
        "print(\"=\"*70)\n",
        "print(\"\\nWe will now build baseline models using:\")\n",
        "print(\"  1. TF-IDF vectorization\")\n",
        "print(\"  2. Logistic Regression\")\n",
        "print(\"  3. Naive Bayes\")\n",
        "print(\"=\"*70 + \"\\n\")"
      ],
      "metadata": {
        "colab": {
          "base_uri": "https://localhost:8080/"
        },
        "id": "b34SQN_2pfFA",
        "outputId": "7701e16b-eec0-4558-8b49-eddec8c8cde5"
      },
      "execution_count": 24,
      "outputs": [
        {
          "output_type": "stream",
          "name": "stdout",
          "text": [
            "\n",
            "======================================================================\n",
            "PHASE 2: BUILDING BASELINE MODELS\n",
            "======================================================================\n",
            "\n",
            "We will now build baseline models using:\n",
            "  1. TF-IDF vectorization\n",
            "  2. Logistic Regression\n",
            "  3. Naive Bayes\n",
            "======================================================================\n",
            "\n"
          ]
        }
      ]
    },
    {
      "cell_type": "markdown",
      "metadata": {
        "id": "qYizcx83owMI"
      },
      "source": [
        "## 2. TF-IDF Vectorization"
      ]
    },
    {
      "cell_type": "code",
      "source": [
        "# Create TF-IDF vectorizer\n",
        "# We'll experiment with different parameters\n",
        "\n",
        "print(\"Creating TF-IDF vectorizer...\\n\")\n",
        "\n",
        "tfidf_vectorizer = TfidfVectorizer(\n",
        "    max_features=5000,        # Limit to top 5000 features\n",
        "    ngram_range=(1, 2),       # Use unigrams and bigrams\n",
        "    min_df=2,                 # Ignore terms that appear in less than 2 documents\n",
        "    max_df=0.8,               # Ignore terms that appear in more than 80% of documents\n",
        "    sublinear_tf=True,        # Apply sublinear scaling to term frequency\n",
        "    use_idf=True\n",
        ")\n",
        "\n",
        "# Fit on training data and transform all sets\n",
        "X_train_tfidf = tfidf_vectorizer.fit_transform(X_train)\n",
        "X_val_tfidf = tfidf_vectorizer.transform(X_val)\n",
        "X_test_tfidf = tfidf_vectorizer.transform(X_test)\n",
        "\n",
        "print(f\"✓ TF-IDF vectorization complete\")\n",
        "print(f\"  Feature matrix shape (train): {X_train_tfidf.shape}\")\n",
        "print(f\"  Feature matrix shape (val): {X_val_tfidf.shape}\")\n",
        "print(f\"  Feature matrix shape (test): {X_test_tfidf.shape}\")\n",
        "print(f\"  Vocabulary size: {len(tfidf_vectorizer.vocabulary_)}\")"
      ],
      "metadata": {
        "colab": {
          "base_uri": "https://localhost:8080/"
        },
        "id": "Bocv5tEbpyL9",
        "outputId": "d8b1f6c5-504b-4b2b-cbd7-aa63200d14bd"
      },
      "execution_count": 25,
      "outputs": [
        {
          "output_type": "stream",
          "name": "stdout",
          "text": [
            "Creating TF-IDF vectorizer...\n",
            "\n",
            "✓ TF-IDF vectorization complete\n",
            "  Feature matrix shape (train): (10240, 5000)\n",
            "  Feature matrix shape (val): (1284, 5000)\n",
            "  Feature matrix shape (test): (1267, 5000)\n",
            "  Vocabulary size: 5000\n"
          ]
        }
      ]
    },
    {
      "cell_type": "code",
      "source": [
        "# Examine top TF-IDF features\n",
        "feature_names = tfidf_vectorizer.get_feature_names_out()\n",
        "\n",
        "# Get average TF-IDF scores\n",
        "tfidf_scores = X_train_tfidf.mean(axis=0).A1\n",
        "top_indices = tfidf_scores.argsort()[-20:][::-1]\n",
        "\n",
        "print(\"\\nTop 20 TF-IDF Features:\")\n",
        "print(\"=\" * 50)\n",
        "for idx in top_indices:\n",
        "    print(f\"{feature_names[idx]:30} {tfidf_scores[idx]:.4f}\")"
      ],
      "metadata": {
        "colab": {
          "base_uri": "https://localhost:8080/"
        },
        "id": "_f86rLB7p9_R",
        "outputId": "feb846ff-57d0-4284-dee1-fcbf179bc718"
      },
      "execution_count": 26,
      "outputs": [
        {
          "output_type": "stream",
          "name": "stdout",
          "text": [
            "\n",
            "Top 20 TF-IDF Features:\n",
            "==================================================\n",
            "say                            0.0285\n",
            "state                          0.0188\n",
            "percent                        0.0174\n",
            "year                           0.0165\n",
            "tax                            0.0153\n",
            "obama                          0.0125\n",
            "president                      0.0109\n",
            "job                            0.0108\n",
            "people                         0.0106\n",
            "million                        0.0102\n",
            "health                         0.0101\n",
            "would                          0.0090\n",
            "care                           0.0090\n",
            "one                            0.0089\n",
            "country                        0.0087\n",
            "american                       0.0085\n",
            "bill                           0.0084\n",
            "new                            0.0083\n",
            "time                           0.0080\n",
            "texas                          0.0080\n"
          ]
        }
      ]
    },
    {
      "cell_type": "markdown",
      "metadata": {
        "id": "lSbduwRGowMK"
      },
      "source": [
        "## 3. Helper Functions for Evaluation"
      ]
    },
    {
      "cell_type": "code",
      "source": [
        "def evaluate_model(y_true, y_pred, y_pred_proba=None, model_name=\"Model\"):\n",
        "    \"\"\"\n",
        "    Comprehensive model evaluation\n",
        "    \"\"\"\n",
        "    print(f\"\\n{'='*60}\")\n",
        "    print(f\"{model_name} Evaluation Results\")\n",
        "    print(f\"{'='*60}\\n\")\n",
        "\n",
        "    # Basic metrics\n",
        "    accuracy = accuracy_score(y_true, y_pred)\n",
        "    precision = precision_score(y_true, y_pred, average='binary')\n",
        "    recall = recall_score(y_true, y_pred, average='binary')\n",
        "    f1 = f1_score(y_true, y_pred, average='binary')\n",
        "\n",
        "    print(f\"Accuracy:  {accuracy:.4f}\")\n",
        "    print(f\"Precision: {precision:.4f}\")\n",
        "    print(f\"Recall:    {recall:.4f}\")\n",
        "    print(f\"F1-Score:  {f1:.4f}\")\n",
        "\n",
        "    if y_pred_proba is not None:\n",
        "        auc = roc_auc_score(y_true, y_pred_proba)\n",
        "        print(f\"ROC-AUC:   {auc:.4f}\")\n",
        "\n",
        "    # Classification report\n",
        "    print(f\"\\nDetailed Classification Report:\")\n",
        "    print(\"-\" * 60)\n",
        "    print(classification_report(y_true, y_pred, target_names=['Fake', 'Real']))\n",
        "\n",
        "    # Store results\n",
        "    results = {\n",
        "        'accuracy': accuracy,\n",
        "        'precision': precision,\n",
        "        'recall': recall,\n",
        "        'f1': f1\n",
        "    }\n",
        "\n",
        "    if y_pred_proba is not None:\n",
        "        results['auc'] = auc\n",
        "\n",
        "    return results\n",
        "\n",
        "def plot_confusion_matrix(y_true, y_pred, model_name=\"Model\"):\n",
        "    \"\"\"\n",
        "    Plot confusion matrix\n",
        "    \"\"\"\n",
        "    cm = confusion_matrix(y_true, y_pred)\n",
        "\n",
        "    plt.figure(figsize=(8, 6))\n",
        "    sns.heatmap(cm, annot=True, fmt='d', cmap='Blues',\n",
        "                xticklabels=['Fake', 'Real'],\n",
        "                yticklabels=['Fake', 'Real'])\n",
        "    plt.title(f'Confusion Matrix - {model_name}', fontsize=14, fontweight='bold')\n",
        "    plt.ylabel('True Label', fontsize=12)\n",
        "    plt.xlabel('Predicted Label', fontsize=12)\n",
        "    plt.tight_layout()\n",
        "    plt.show()\n",
        "\n",
        "    # Print normalized confusion matrix\n",
        "    cm_normalized = cm.astype('float') / cm.sum(axis=1)[:, np.newaxis]\n",
        "    print(f\"\\nNormalized Confusion Matrix:\")\n",
        "    print(\"=\" * 40)\n",
        "    print(f\"True Negatives:  {cm_normalized[0, 0]:.2%}\")\n",
        "    print(f\"False Positives: {cm_normalized[0, 1]:.2%}\")\n",
        "    print(f\"False Negatives: {cm_normalized[1, 0]:.2%}\")\n",
        "    print(f\"True Positives:  {cm_normalized[1, 1]:.2%}\")\n",
        "\n",
        "def plot_roc_curve(y_true, y_pred_proba, model_name=\"Model\"):\n",
        "    \"\"\"\n",
        "    Plot ROC curve\n",
        "    \"\"\"\n",
        "    fpr, tpr, thresholds = roc_curve(y_true, y_pred_proba)\n",
        "    auc = roc_auc_score(y_true, y_pred_proba)\n",
        "\n",
        "    plt.figure(figsize=(8, 6))\n",
        "    plt.plot(fpr, tpr, color='darkorange', lw=2, label=f'ROC curve (AUC = {auc:.4f})')\n",
        "    plt.plot([0, 1], [0, 1], color='navy', lw=2, linestyle='--', label='Random Classifier')\n",
        "    plt.xlim([0.0, 1.0])\n",
        "    plt.ylim([0.0, 1.05])\n",
        "    plt.xlabel('False Positive Rate', fontsize=12)\n",
        "    plt.ylabel('True Positive Rate', fontsize=12)\n",
        "    plt.title(f'ROC Curve - {model_name}', fontsize=14, fontweight='bold')\n",
        "    plt.legend(loc=\"lower right\")\n",
        "    plt.grid(alpha=0.3)\n",
        "    plt.tight_layout()\n",
        "    plt.show()\n",
        "\n",
        "print(\"✓ Evaluation functions defined\")"
      ],
      "metadata": {
        "colab": {
          "base_uri": "https://localhost:8080/"
        },
        "id": "GeL4zbrvqRph",
        "outputId": "5efc84ab-f75b-4066-d366-3d8b3966664c"
      },
      "execution_count": 27,
      "outputs": [
        {
          "output_type": "stream",
          "name": "stdout",
          "text": [
            "✓ Evaluation functions defined\n"
          ]
        }
      ]
    },
    {
      "cell_type": "markdown",
      "metadata": {
        "id": "rw6wDfIdowMM"
      },
      "source": [
        "## 4. Baseline Model 1: Logistic Regression"
      ]
    },
    {
      "cell_type": "code",
      "source": [
        "print(\"Training Logistic Regression model...\\n\")\n",
        "\n",
        "# Initialize model\n",
        "lr_model = LogisticRegression(\n",
        "    max_iter=1000,\n",
        "    random_state=RANDOM_SEED,\n",
        "    C=1.0,                    # Regularization parameter\n",
        "    class_weight='balanced',  # Handle class imbalance\n",
        "    solver='lbfgs'\n",
        ")\n",
        "\n",
        "# Train model\n",
        "lr_model.fit(X_train_tfidf, y_train)\n",
        "\n",
        "print(\"✓ Training complete!\")\n",
        "\n",
        "# Make predictions\n",
        "y_train_pred_lr = lr_model.predict(X_train_tfidf)\n",
        "y_val_pred_lr = lr_model.predict(X_val_tfidf)\n",
        "y_test_pred_lr = lr_model.predict(X_test_tfidf)\n",
        "\n",
        "# Get probability predictions\n",
        "y_train_proba_lr = lr_model.predict_proba(X_train_tfidf)[:, 1]\n",
        "y_val_proba_lr = lr_model.predict_proba(X_val_tfidf)[:, 1]\n",
        "y_test_proba_lr = lr_model.predict_proba(X_test_tfidf)[:, 1]"
      ],
      "metadata": {
        "colab": {
          "base_uri": "https://localhost:8080/"
        },
        "id": "XkUQ-W2zqhNf",
        "outputId": "50d6fe26-c4e5-4ad3-ee78-68460f654ecb"
      },
      "execution_count": 28,
      "outputs": [
        {
          "output_type": "stream",
          "name": "stdout",
          "text": [
            "Training Logistic Regression model...\n",
            "\n",
            "✓ Training complete!\n"
          ]
        }
      ]
    },
    {
      "cell_type": "code",
      "source": [
        "# Evaluate on training set\n",
        "lr_train_results = evaluate_model(y_train, y_train_pred_lr, y_train_proba_lr,\n",
        "                                   \"Logistic Regression (Training Set)\")"
      ],
      "metadata": {
        "colab": {
          "base_uri": "https://localhost:8080/"
        },
        "id": "HjNNcrUjqo-t",
        "outputId": "3d7c50db-069c-424a-af5f-3f9ab5b7105d"
      },
      "execution_count": 29,
      "outputs": [
        {
          "output_type": "stream",
          "name": "stdout",
          "text": [
            "\n",
            "============================================================\n",
            "Logistic Regression (Training Set) Evaluation Results\n",
            "============================================================\n",
            "\n",
            "Accuracy:  0.7596\n",
            "Precision: 0.8049\n",
            "Recall:    0.7550\n",
            "F1-Score:  0.7792\n",
            "ROC-AUC:   0.8363\n",
            "\n",
            "Detailed Classification Report:\n",
            "------------------------------------------------------------\n",
            "              precision    recall  f1-score   support\n",
            "\n",
            "        Fake       0.71      0.77      0.74      4488\n",
            "        Real       0.80      0.76      0.78      5752\n",
            "\n",
            "    accuracy                           0.76     10240\n",
            "   macro avg       0.76      0.76      0.76     10240\n",
            "weighted avg       0.76      0.76      0.76     10240\n",
            "\n"
          ]
        }
      ]
    },
    {
      "cell_type": "code",
      "source": [
        "# Evaluate on validation set\n",
        "lr_val_results = evaluate_model(y_val, y_val_pred_lr, y_val_proba_lr,\n",
        "                                 \"Logistic Regression (Validation Set)\")"
      ],
      "metadata": {
        "colab": {
          "base_uri": "https://localhost:8080/"
        },
        "id": "RAKqmYjBqxrR",
        "outputId": "ce31e3ad-b071-426c-a0ab-6a3952cffee0"
      },
      "execution_count": 30,
      "outputs": [
        {
          "output_type": "stream",
          "name": "stdout",
          "text": [
            "\n",
            "============================================================\n",
            "Logistic Regression (Validation Set) Evaluation Results\n",
            "============================================================\n",
            "\n",
            "Accuracy:  0.6145\n",
            "Precision: 0.6309\n",
            "Recall:    0.6243\n",
            "F1-Score:  0.6275\n",
            "ROC-AUC:   0.6625\n",
            "\n",
            "Detailed Classification Report:\n",
            "------------------------------------------------------------\n",
            "              precision    recall  f1-score   support\n",
            "\n",
            "        Fake       0.60      0.60      0.60       616\n",
            "        Real       0.63      0.62      0.63       668\n",
            "\n",
            "    accuracy                           0.61      1284\n",
            "   macro avg       0.61      0.61      0.61      1284\n",
            "weighted avg       0.61      0.61      0.61      1284\n",
            "\n"
          ]
        }
      ]
    },
    {
      "cell_type": "code",
      "source": [
        "# Plot confusion matrix\n",
        "plot_confusion_matrix(y_val, y_val_pred_lr, \"Logistic Regression (Validation)\")"
      ],
      "metadata": {
        "colab": {
          "base_uri": "https://localhost:8080/",
          "height": 728
        },
        "id": "lM9rt2dNq4KR",
        "outputId": "461a646e-8ce6-4169-a2f3-5913f31f155e"
      },
      "execution_count": 31,
      "outputs": [
        {
          "output_type": "display_data",
          "data": {
            "text/plain": [
              "<Figure size 800x600 with 2 Axes>"
            ],
            "image/png": "[encoded data removed]"
          },
          "metadata": {}
        },
        {
          "output_type": "stream",
          "name": "stdout",
          "text": [
            "\n",
            "Normalized Confusion Matrix:\n",
            "========================================\n",
            "True Negatives:  60.39%\n",
            "False Positives: 39.61%\n",
            "False Negatives: 37.57%\n",
            "True Positives:  62.43%\n"
          ]
        }
      ]
    },
    {
      "cell_type": "code",
      "source": [
        "# Plot ROC curve\n",
        "plot_roc_curve(y_val, y_val_proba_lr, \"Logistic Regression (Validation)\")"
      ],
      "metadata": {
        "colab": {
          "base_uri": "https://localhost:8080/",
          "height": 607
        },
        "id": "eXX2Aej6rKJq",
        "outputId": "f5198813-f7d2-48a4-c5ce-1b50f1b6d4ab"
      },
      "execution_count": 32,
      "outputs": [
        {
          "output_type": "display_data",
          "data": {
            "text/plain": [
              "<Figure size 800x600 with 1 Axes>"
            ],
            "image/png": "[encoded data removed]"
          },
          "metadata": {}
        }
      ]
    },
    {
      "cell_type": "code",
      "source": [
        "# Examine top predictive features\n",
        "feature_importance = lr_model.coef_[0]\n",
        "top_positive_idx = feature_importance.argsort()[-20:][::-1]\n",
        "top_negative_idx = feature_importance.argsort()[:20]\n",
        "\n",
        "print(\"\\nTop 20 Features Predicting REAL News:\")\n",
        "print(\"=\" * 60)\n",
        "for idx in top_positive_idx:\n",
        "    print(f\"{feature_names[idx]:30} {feature_importance[idx]:8.4f}\")\n",
        "\n",
        "print(\"\\nTop 20 Features Predicting FAKE News:\")\n",
        "print(\"=\" * 60)\n",
        "for idx in top_negative_idx:\n",
        "    print(f\"{feature_names[idx]:30} {feature_importance[idx]:8.4f}\")"
      ],
      "metadata": {
        "colab": {
          "base_uri": "https://localhost:8080/"
        },
        "id": "N0gRhw4krQJY",
        "outputId": "bbe001ad-ab6c-4fe8-a5e8-00cb3b8120b6"
      },
      "execution_count": 33,
      "outputs": [
        {
          "output_type": "stream",
          "name": "stdout",
          "text": [
            "\n",
            "Top 20 Features Predicting REAL News:\n",
            "============================================================\n",
            "percent                          2.1815\n",
            "since                            1.9915\n",
            "georgia                          1.9679\n",
            "debt                             1.6623\n",
            "average                          1.6255\n",
            "still                            1.6127\n",
            "lower                            1.5750\n",
            "decade                           1.5736\n",
            "day                              1.5676\n",
            "worth                            1.5416\n",
            "say scott                        1.4886\n",
            "country                          1.4336\n",
            "firearm                          1.4293\n",
            "shutdown                         1.4287\n",
            "three                            1.4172\n",
            "accident                         1.3524\n",
            "corporation                      1.3487\n",
            "indiana                          1.3319\n",
            "million                          1.2965\n",
            "act                              1.2881\n",
            "\n",
            "Top 20 Features Predicting FAKE News:\n",
            "============================================================\n",
            "rep                             -1.9690\n",
            "obamacare                       -1.6316\n",
            "group                           -1.5856\n",
            "obama                           -1.5829\n",
            "illegals                        -1.5278\n",
            "muslim                          -1.4880\n",
            "nuclear weapon                  -1.4665\n",
            "wisconsin                       -1.3902\n",
            "four year                       -1.3664\n",
            "seven year                      -1.3549\n",
            "3000                            -1.3348\n",
            "government                      -1.2846\n",
            "increase history                -1.2629\n",
            "away                            -1.2366\n",
            "president                       -1.2179\n",
            "commission                      -1.2120\n",
            "team                            -1.2054\n",
            "option                          -1.1995\n",
            "face                            -1.1914\n",
            "tax hike                        -1.1882\n"
          ]
        }
      ]
    },
    {
      "cell_type": "markdown",
      "metadata": {
        "id": "xMq9V3rAowMS"
      },
      "source": [
        "## 5. Baseline Model 2: Multinomial Naive Bayes"
      ]
    },
    {
      "cell_type": "code",
      "source": [
        "print(\"Training Multinomial Naive Bayes model...\\n\")\n",
        "\n",
        "# Initialize model\n",
        "nb_model = MultinomialNB(alpha=1.0)  # Laplace smoothing\n",
        "\n",
        "# Train model\n",
        "nb_model.fit(X_train_tfidf, y_train)\n",
        "\n",
        "print(\"✓ Training complete!\")\n",
        "\n",
        "# Make predictions\n",
        "y_train_pred_nb = nb_model.predict(X_train_tfidf)\n",
        "y_val_pred_nb = nb_model.predict(X_val_tfidf)\n",
        "y_test_pred_nb = nb_model.predict(X_test_tfidf)\n",
        "\n",
        "# Get probability predictions\n",
        "y_train_proba_nb = nb_model.predict_proba(X_train_tfidf)[:, 1]\n",
        "y_val_proba_nb = nb_model.predict_proba(X_val_tfidf)[:, 1]\n",
        "y_test_proba_nb = nb_model.predict_proba(X_test_tfidf)[:, 1]"
      ],
      "metadata": {
        "colab": {
          "base_uri": "https://localhost:8080/"
        },
        "id": "jI6wtvPerfhK",
        "outputId": "3c0a1c08-d565-4c6c-f2b9-291a07d35cf9"
      },
      "execution_count": 34,
      "outputs": [
        {
          "output_type": "stream",
          "name": "stdout",
          "text": [
            "Training Multinomial Naive Bayes model...\n",
            "\n",
            "✓ Training complete!\n"
          ]
        }
      ]
    },
    {
      "cell_type": "code",
      "source": [
        "# Evaluate on training set\n",
        "nb_train_results = evaluate_model(y_train, y_train_pred_nb, y_train_proba_nb,\n",
        "                                   \"Naive Bayes (Training Set)\")"
      ],
      "metadata": {
        "colab": {
          "base_uri": "https://localhost:8080/"
        },
        "id": "ikd7l-9PrlNc",
        "outputId": "6184f216-8764-4565-e4b7-1c6f59093514"
      },
      "execution_count": 35,
      "outputs": [
        {
          "output_type": "stream",
          "name": "stdout",
          "text": [
            "\n",
            "============================================================\n",
            "Naive Bayes (Training Set) Evaluation Results\n",
            "============================================================\n",
            "\n",
            "Accuracy:  0.7384\n",
            "Precision: 0.7249\n",
            "Recall:    0.8609\n",
            "F1-Score:  0.7871\n",
            "ROC-AUC:   0.8164\n",
            "\n",
            "Detailed Classification Report:\n",
            "------------------------------------------------------------\n",
            "              precision    recall  f1-score   support\n",
            "\n",
            "        Fake       0.77      0.58      0.66      4488\n",
            "        Real       0.72      0.86      0.79      5752\n",
            "\n",
            "    accuracy                           0.74     10240\n",
            "   macro avg       0.75      0.72      0.72     10240\n",
            "weighted avg       0.74      0.74      0.73     10240\n",
            "\n"
          ]
        }
      ]
    },
    {
      "cell_type": "code",
      "source": [
        "# Evaluate on validation set\n",
        "nb_val_results = evaluate_model(y_val, y_val_pred_nb, y_val_proba_nb,\n",
        "                                 \"Naive Bayes (Validation Set)\")"
      ],
      "metadata": {
        "colab": {
          "base_uri": "https://localhost:8080/"
        },
        "id": "5xVQzc2UrrOy",
        "outputId": "0cdd0f5c-f7e2-489a-9753-5ddad8c55121"
      },
      "execution_count": 36,
      "outputs": [
        {
          "output_type": "stream",
          "name": "stdout",
          "text": [
            "\n",
            "============================================================\n",
            "Naive Bayes (Validation Set) Evaluation Results\n",
            "============================================================\n",
            "\n",
            "Accuracy:  0.6129\n",
            "Precision: 0.5991\n",
            "Recall:    0.7740\n",
            "F1-Score:  0.6754\n",
            "ROC-AUC:   0.6622\n",
            "\n",
            "Detailed Classification Report:\n",
            "------------------------------------------------------------\n",
            "              precision    recall  f1-score   support\n",
            "\n",
            "        Fake       0.64      0.44      0.52       616\n",
            "        Real       0.60      0.77      0.68       668\n",
            "\n",
            "    accuracy                           0.61      1284\n",
            "   macro avg       0.62      0.61      0.60      1284\n",
            "weighted avg       0.62      0.61      0.60      1284\n",
            "\n"
          ]
        }
      ]
    },
    {
      "cell_type": "code",
      "source": [
        "# Plot confusion matrix\n",
        "plot_confusion_matrix(y_val, y_val_pred_nb, \"Naive Bayes (Validation)\")"
      ],
      "metadata": {
        "colab": {
          "base_uri": "https://localhost:8080/",
          "height": 728
        },
        "id": "oqf8KRQBrxMx",
        "outputId": "9fb15c05-77cb-4d84-9ed3-b9e3f0a0c11e"
      },
      "execution_count": 37,
      "outputs": [
        {
          "output_type": "display_data",
          "data": {
            "text/plain": [
              "<Figure size 800x600 with 2 Axes>"
            ],
            "image/png": "[encoded data removed]"
          },
          "metadata": {}
        },
        {
          "output_type": "stream",
          "name": "stdout",
          "text": [
            "\n",
            "Normalized Confusion Matrix:\n",
            "========================================\n",
            "True Negatives:  43.83%\n",
            "False Positives: 56.17%\n",
            "False Negatives: 22.60%\n",
            "True Positives:  77.40%\n"
          ]
        }
      ]
    },
    {
      "cell_type": "code",
      "source": [
        "# Plot ROC curve\n",
        "plot_roc_curve(y_val, y_val_proba_nb, \"Naive Bayes (Validation)\")"
      ],
      "metadata": {
        "colab": {
          "base_uri": "https://localhost:8080/",
          "height": 607
        },
        "id": "TExGcjair5gC",
        "outputId": "ebb0091b-12f0-485a-9300-28fea6896a2a"
      },
      "execution_count": 38,
      "outputs": [
        {
          "output_type": "display_data",
          "data": {
            "text/plain": [
              "<Figure size 800x600 with 1 Axes>"
            ],
            "image/png": "[encoded data removed]"
          },
          "metadata": {}
        }
      ]
    },
    {
      "cell_type": "markdown",
      "metadata": {
        "id": "9rFBp8a6owMV"
      },
      "source": [
        "## 6. Hyperparameter Tuning"
      ]
    },
    {
      "cell_type": "code",
      "source": [
        "# Grid search for Logistic Regression\n",
        "print(\"Performing Grid Search for Logistic Regression...\\n\")\n",
        "print(\"This may take several minutes...\\n\")\n",
        "\n",
        "param_grid_lr = {\n",
        "    'C': [0.1, 1.0, 10.0],\n",
        "    'penalty': ['l2'],\n",
        "    'solver': ['lbfgs', 'liblinear']\n",
        "}\n",
        "\n",
        "grid_search_lr = GridSearchCV(\n",
        "    LogisticRegression(max_iter=1000, random_state=RANDOM_SEED, class_weight='balanced'),\n",
        "    param_grid_lr,\n",
        "    cv=3,\n",
        "    scoring='f1',\n",
        "    n_jobs=-1,\n",
        "    verbose=1\n",
        ")\n",
        "\n",
        "grid_search_lr.fit(X_train_tfidf, y_train)\n",
        "\n",
        "print(f\"\\n✓ Grid Search Complete!\")\n",
        "print(f\"Best parameters: {grid_search_lr.best_params_}\")\n",
        "print(f\"Best F1 score: {grid_search_lr.best_score_:.4f}\")"
      ],
      "metadata": {
        "colab": {
          "base_uri": "https://localhost:8080/"
        },
        "id": "upstd9b9sNBM",
        "outputId": "65a5638c-3da2-4a2a-caea-9ee920c6528b"
      },
      "execution_count": 39,
      "outputs": [
        {
          "output_type": "stream",
          "name": "stdout",
          "text": [
            "Performing Grid Search for Logistic Regression...\n",
            "\n",
            "This may take several minutes...\n",
            "\n",
            "Fitting 3 folds for each of 6 candidates, totalling 18 fits\n",
            "\n",
            "✓ Grid Search Complete!\n",
            "Best parameters: {'C': 1.0, 'penalty': 'l2', 'solver': 'liblinear'}\n",
            "Best F1 score: 0.6327\n"
          ]
        }
      ]
    },
    {
      "cell_type": "code",
      "source": [
        "# Evaluate tuned model\n",
        "best_lr_model = grid_search_lr.best_estimator_\n",
        "y_val_pred_lr_tuned = best_lr_model.predict(X_val_tfidf)\n",
        "y_val_proba_lr_tuned = best_lr_model.predict_proba(X_val_tfidf)[:, 1]\n",
        "\n",
        "lr_tuned_results = evaluate_model(y_val, y_val_pred_lr_tuned, y_val_proba_lr_tuned,\n",
        "                                   \"Tuned Logistic Regression (Validation)\")"
      ],
      "metadata": {
        "colab": {
          "base_uri": "https://localhost:8080/"
        },
        "id": "idIbbakPsVTe",
        "outputId": "95285f5b-616d-45e4-9a4c-eae80f6bdb35"
      },
      "execution_count": 40,
      "outputs": [
        {
          "output_type": "stream",
          "name": "stdout",
          "text": [
            "\n",
            "============================================================\n",
            "Tuned Logistic Regression (Validation) Evaluation Results\n",
            "============================================================\n",
            "\n",
            "Accuracy:  0.6106\n",
            "Precision: 0.6273\n",
            "Recall:    0.6198\n",
            "F1-Score:  0.6235\n",
            "ROC-AUC:   0.6634\n",
            "\n",
            "Detailed Classification Report:\n",
            "------------------------------------------------------------\n",
            "              precision    recall  f1-score   support\n",
            "\n",
            "        Fake       0.59      0.60      0.60       616\n",
            "        Real       0.63      0.62      0.62       668\n",
            "\n",
            "    accuracy                           0.61      1284\n",
            "   macro avg       0.61      0.61      0.61      1284\n",
            "weighted avg       0.61      0.61      0.61      1284\n",
            "\n"
          ]
        }
      ]
    },
    {
      "cell_type": "markdown",
      "metadata": {
        "id": "fePcIulGowMX"
      },
      "source": [
        "## 7. Compare Models"
      ]
    },
    {
      "cell_type": "code",
      "source": [
        "# Create comparison dataframe\n",
        "comparison_df = pd.DataFrame({\n",
        "    'Model': ['Logistic Regression', 'Naive Bayes', 'Tuned LR'],\n",
        "    'Accuracy': [lr_val_results['accuracy'], nb_val_results['accuracy'], lr_tuned_results['accuracy']],\n",
        "    'Precision': [lr_val_results['precision'], nb_val_results['precision'], lr_tuned_results['precision']],\n",
        "    'Recall': [lr_val_results['recall'], nb_val_results['recall'], lr_tuned_results['recall']],\n",
        "    'F1-Score': [lr_val_results['f1'], nb_val_results['f1'], lr_tuned_results['f1']],\n",
        "    'ROC-AUC': [lr_val_results['auc'], nb_val_results['auc'], lr_tuned_results['auc']]\n",
        "})\n",
        "\n",
        "print(\"\\nModel Comparison on Validation Set:\")\n",
        "print(\"=\" * 80)\n",
        "print(comparison_df.to_string(index=False))\n",
        "\n",
        "# Find best model\n",
        "best_model_idx = comparison_df['F1-Score'].idxmax()\n",
        "best_model_name = comparison_df.loc[best_model_idx, 'Model']\n",
        "print(f\"\\n🏆 Best Model: {best_model_name} (F1-Score: {comparison_df.loc[best_model_idx, 'F1-Score']:.4f})\")"
      ],
      "metadata": {
        "colab": {
          "base_uri": "https://localhost:8080/"
        },
        "id": "298HgP3RsgPX",
        "outputId": "84b66c69-f757-4033-f83c-27ec66860925"
      },
      "execution_count": 41,
      "outputs": [
        {
          "output_type": "stream",
          "name": "stdout",
          "text": [
            "\n",
            "Model Comparison on Validation Set:\n",
            "================================================================================\n",
            "              Model  Accuracy  Precision   Recall  F1-Score  ROC-AUC\n",
            "Logistic Regression  0.614486   0.630862 0.624251  0.627540 0.662462\n",
            "        Naive Bayes  0.612928   0.599073 0.773952  0.675376 0.662168\n",
            "           Tuned LR  0.610592   0.627273 0.619760  0.623494 0.663378\n",
            "\n",
            "🏆 Best Model: Naive Bayes (F1-Score: 0.6754)\n"
          ]
        }
      ]
    },
    {
      "cell_type": "code",
      "source": [
        "# Visualize comparison\n",
        "fig, axes = plt.subplots(1, 2, figsize=(15, 5))\n",
        "\n",
        "# Bar plot of metrics\n",
        "metrics = ['Accuracy', 'Precision', 'Recall', 'F1-Score', 'ROC-AUC']\n",
        "x = np.arange(len(metrics))\n",
        "width = 0.25\n",
        "\n",
        "for i, model in enumerate(comparison_df['Model']):\n",
        "    values = comparison_df.iloc[i, 1:].values\n",
        "    axes[0].bar(x + i*width, values, width, label=model)\n",
        "\n",
        "axes[0].set_xlabel('Metrics', fontsize=12)\n",
        "axes[0].set_ylabel('Score', fontsize=12)\n",
        "axes[0].set_title('Model Performance Comparison', fontsize=14, fontweight='bold')\n",
        "axes[0].set_xticks(x + width)\n",
        "axes[0].set_xticklabels(metrics)\n",
        "axes[0].legend()\n",
        "axes[0].grid(axis='y', alpha=0.3)\n",
        "\n",
        "# F1-Score comparison\n",
        "axes[1].barh(comparison_df['Model'], comparison_df['F1-Score'], color=['steelblue', 'coral', 'mediumseagreen'])\n",
        "axes[1].set_xlabel('F1-Score', fontsize=12)\n",
        "axes[1].set_title('F1-Score Comparison', fontsize=14, fontweight='bold')\n",
        "axes[1].grid(axis='x', alpha=0.3)\n",
        "\n",
        "# Add value labels\n",
        "for i, v in enumerate(comparison_df['F1-Score']):\n",
        "    axes[1].text(v + 0.01, i, f'{v:.4f}', va='center')\n",
        "\n",
        "plt.tight_layout()\n",
        "plt.show()"
      ],
      "metadata": {
        "colab": {
          "base_uri": "https://localhost:8080/",
          "height": 459
        },
        "id": "DelloMkxsuKz",
        "outputId": "3b9ab306-dba4-417a-e68d-c6d7191f26ca"
      },
      "execution_count": 42,
      "outputs": [
        {
          "output_type": "display_data",
          "data": {
            "text/plain": [
              "<Figure size 1500x500 with 2 Axes>"
            ],
            "image/png": "[encoded data removed]"
          },
          "metadata": {}
        }
      ]
    },
    {
      "cell_type": "markdown",
      "metadata": {
        "id": "IXkADIdSowMY"
      },
      "source": [
        "## 8. Final Evaluation on Test Set"
      ]
    },
    {
      "cell_type": "code",
      "source": [
        "# ============================================\n",
        "# 8. FINAL EVALUATION ON TEST SET\n",
        "# ============================================\n",
        "\n",
        "# Dynamically select the best model based on F1-score\n",
        "print(\"Selecting best model based on validation F1-score...\")\n",
        "print(\"=\" * 70)\n",
        "\n",
        "# Compare F1-scores from all models\n",
        "model_scores = {\n",
        "    'Logistic Regression': lr_val_results['f1'],\n",
        "    'Naive Bayes': nb_val_results['f1'],\n",
        "    'Tuned Logistic Regression': lr_tuned_results['f1']\n",
        "}\n",
        "\n",
        "# Find the best model\n",
        "best_model_name = max(model_scores, key=model_scores.get)\n",
        "best_f1_score = model_scores[best_model_name]\n",
        "\n",
        "print(f\"\\n🏆 Best Model: {best_model_name}\")\n",
        "print(f\"   Validation F1-Score: {best_f1_score:.4f}\")\n",
        "print(\"=\" * 70)\n",
        "\n",
        "# Select the corresponding model\n",
        "if best_model_name == 'Logistic Regression':\n",
        "    final_model = lr_model\n",
        "    y_test_pred_final = y_test_pred_lr\n",
        "    y_test_proba_final = y_test_proba_lr\n",
        "elif best_model_name == 'Naive Bayes':\n",
        "    final_model = nb_model\n",
        "    y_test_pred_final = y_test_pred_nb\n",
        "    y_test_proba_final = y_test_proba_nb\n",
        "else:  # Tuned Logistic Regression\n",
        "    final_model = best_lr_model\n",
        "    y_test_pred_final = y_test_pred_lr_tuned\n",
        "    y_test_proba_final = y_test_proba_lr_tuned\n",
        "\n",
        "print(f\"\\n✓ Using {best_model_name} for final test evaluation\\n\")\n",
        "\n",
        "# Evaluate on test set\n",
        "test_results = evaluate_model(y_test, y_test_pred_final, y_test_proba_final,\n",
        "                               f\"{best_model_name} (TEST SET - FINAL)\")"
      ],
      "metadata": {
        "colab": {
          "base_uri": "https://localhost:8080/"
        },
        "id": "W1cQubI0s9GV",
        "outputId": "2eabd658-ae8b-4b6d-f619-50b637c5d272"
      },
      "execution_count": 52,
      "outputs": [
        {
          "output_type": "stream",
          "name": "stdout",
          "text": [
            "Selecting best model based on validation F1-score...\n",
            "======================================================================\n",
            "\n",
            "🏆 Best Model: Naive Bayes\n",
            "   Validation F1-Score: 0.6754\n",
            "======================================================================\n",
            "\n",
            "✓ Using Naive Bayes for final test evaluation\n",
            "\n",
            "\n",
            "============================================================\n",
            "Naive Bayes (TEST SET - FINAL) Evaluation Results\n",
            "============================================================\n",
            "\n",
            "Accuracy:  0.6101\n",
            "Precision: 0.6239\n",
            "Recall:    0.7759\n",
            "F1-Score:  0.6916\n",
            "ROC-AUC:   0.6504\n",
            "\n",
            "Detailed Classification Report:\n",
            "------------------------------------------------------------\n",
            "              precision    recall  f1-score   support\n",
            "\n",
            "        Fake       0.58      0.40      0.47       553\n",
            "        Real       0.62      0.78      0.69       714\n",
            "\n",
            "    accuracy                           0.61      1267\n",
            "   macro avg       0.60      0.59      0.58      1267\n",
            "weighted avg       0.60      0.61      0.59      1267\n",
            "\n"
          ]
        }
      ]
    },
    {
      "cell_type": "code",
      "source": [
        "# Plot final confusion matrix\n",
        "plot_confusion_matrix(y_test, y_test_pred_final, f\"{best_model_name} (Test Set)\")"
      ],
      "metadata": {
        "colab": {
          "base_uri": "https://localhost:8080/",
          "height": 728
        },
        "id": "EK8S5qHItCps",
        "outputId": "53ce7226-5637-4522-da05-b82e4f6b4d82"
      },
      "execution_count": 53,
      "outputs": [
        {
          "output_type": "display_data",
          "data": {
            "text/plain": [
              "<Figure size 800x600 with 2 Axes>"
            ],
            "image/png": "[encoded data removed]"
          },
          "metadata": {}
        },
        {
          "output_type": "stream",
          "name": "stdout",
          "text": [
            "\n",
            "Normalized Confusion Matrix:\n",
            "========================================\n",
            "True Negatives:  39.60%\n",
            "False Positives: 60.40%\n",
            "False Negatives: 22.41%\n",
            "True Positives:  77.59%\n"
          ]
        }
      ]
    },
    {
      "cell_type": "code",
      "source": [
        "# Plot final ROC curve\n",
        "plot_roc_curve(y_test, y_test_proba_final, f\"{best_model_name} (Test Set)\")"
      ],
      "metadata": {
        "colab": {
          "base_uri": "https://localhost:8080/",
          "height": 607
        },
        "id": "x5QRSfWwtLJN",
        "outputId": "2530f1b4-ce43-48dc-dbcc-b3b887fc83f4"
      },
      "execution_count": 54,
      "outputs": [
        {
          "output_type": "display_data",
          "data": {
            "text/plain": [
              "<Figure size 800x600 with 1 Axes>"
            ],
            "image/png": "[encoded data removed]"
          },
          "metadata": {}
        }
      ]
    },
    {
      "cell_type": "markdown",
      "metadata": {
        "id": "CEHH1xs7owMb"
      },
      "source": [
        "## 9. Error Analysis"
      ]
    },
    {
      "cell_type": "code",
      "source": [
        "# Analyze misclassifications\n",
        "test_df_copy = test_df.copy()\n",
        "test_df_copy['predicted'] = y_test_pred_final\n",
        "test_df_copy['correct'] = test_df_copy['binary_label'] == test_df_copy['predicted']\n",
        "\n",
        "# False Positives (predicted Real but actually Fake)\n",
        "false_positives = test_df_copy[(test_df_copy['binary_label'] == 0) & (test_df_copy['predicted'] == 1)]\n",
        "\n",
        "# False Negatives (predicted Fake but actually Real)\n",
        "false_negatives = test_df_copy[(test_df_copy['binary_label'] == 1) & (test_df_copy['predicted'] == 0)]\n",
        "\n",
        "print(f\"\\nError Analysis:\")\n",
        "print(\"=\" * 60)\n",
        "print(f\"Total misclassifications: {(~test_df_copy['correct']).sum()}\")\n",
        "print(f\"False Positives: {len(false_positives)}\")\n",
        "print(f\"False Negatives: {len(false_negatives)}\")"
      ],
      "metadata": {
        "colab": {
          "base_uri": "https://localhost:8080/"
        },
        "id": "1fRe0MNjtX60",
        "outputId": "43c4385f-c69b-45c0-a7a2-252c9d6af0e2"
      },
      "execution_count": 55,
      "outputs": [
        {
          "output_type": "stream",
          "name": "stdout",
          "text": [
            "\n",
            "Error Analysis:\n",
            "============================================================\n",
            "Total misclassifications: 494\n",
            "False Positives: 334\n",
            "False Negatives: 160\n"
          ]
        }
      ]
    },
    {
      "cell_type": "code",
      "source": [
        "# Show examples of false positives\n",
        "print(\"\\nExamples of False Positives (Fake predicted as Real):\")\n",
        "print(\"=\" * 80)\n",
        "for i, row in false_positives.head(3).iterrows():\n",
        "    print(f\"\\nStatement: {row['statement'][:200]}...\")\n",
        "    print(f\"True Label: Fake (0)\")\n",
        "    print(f\"Predicted: Real (1)\")\n",
        "    print(\"-\" * 80)"
      ],
      "metadata": {
        "colab": {
          "base_uri": "https://localhost:8080/"
        },
        "id": "NrVRQiYttgrg",
        "outputId": "2218a7c4-fe83-48e0-f22e-7b402228af58"
      },
      "execution_count": 56,
      "outputs": [
        {
          "output_type": "stream",
          "name": "stdout",
          "text": [
            "\n",
            "Examples of False Positives (Fake predicted as Real):\n",
            "================================================================================\n",
            "\n",
            "Statement: Wisconsin is on pace to double the number of layoffs this year....\n",
            "True Label: Fake (0)\n",
            "Predicted: Real (1)\n",
            "--------------------------------------------------------------------------------\n",
            "\n",
            "Statement: We know there are more Democrats in Georgia than Republicans. We know that for a fact....\n",
            "True Label: Fake (0)\n",
            "Predicted: Real (1)\n",
            "--------------------------------------------------------------------------------\n",
            "\n",
            "Statement: Denali is the Kenyan word for black power....\n",
            "True Label: Fake (0)\n",
            "Predicted: Real (1)\n",
            "--------------------------------------------------------------------------------\n"
          ]
        }
      ]
    },
    {
      "cell_type": "code",
      "source": [
        "# Show examples of false negatives\n",
        "print(\"\\nExamples of False Negatives (Real predicted as Fake):\")\n",
        "print(\"=\" * 80)\n",
        "for i, row in false_negatives.head(3).iterrows():\n",
        "    print(f\"\\nStatement: {row['statement'][:200]}...\")\n",
        "    print(f\"True Label: Real (1)\")\n",
        "    print(f\"Predicted: Fake (0)\")\n",
        "    print(\"-\" * 80)"
      ],
      "metadata": {
        "colab": {
          "base_uri": "https://localhost:8080/"
        },
        "id": "cRTSAxwVtlvT",
        "outputId": "eefb6fa0-ba3c-47ed-80f2-df267fbfd2ef"
      },
      "execution_count": 57,
      "outputs": [
        {
          "output_type": "stream",
          "name": "stdout",
          "text": [
            "\n",
            "Examples of False Negatives (Real predicted as Fake):\n",
            "================================================================================\n",
            "\n",
            "Statement: Suzanne Bonamici supports a plan that will cut choice for Medicare Advantage seniors....\n",
            "True Label: Real (1)\n",
            "Predicted: Fake (0)\n",
            "--------------------------------------------------------------------------------\n",
            "\n",
            "Statement: There have not been any public safety issues in cities that allow transgender people to use the bathroom of the gender they identify as....\n",
            "True Label: Real (1)\n",
            "Predicted: Fake (0)\n",
            "--------------------------------------------------------------------------------\n",
            "\n",
            "Statement: Contends that President Obama literally said (if) his cap-and-trade proposals were to pass, that utility rates, his words now, would, necessarily skyrocket....\n",
            "True Label: Real (1)\n",
            "Predicted: Fake (0)\n",
            "--------------------------------------------------------------------------------\n"
          ]
        }
      ]
    },
    {
      "cell_type": "markdown",
      "metadata": {
        "id": "mPAwLD0KowMe"
      },
      "source": [
        "## 10. Save Models and Results"
      ]
    },
    {
      "cell_type": "code",
      "source": [
        "# Save the best model and vectorizer\n",
        "import pickle\n",
        "\n",
        "with open('best_baseline_model.pkl', 'wb') as f:\n",
        "    pickle.dump(best_lr_model, f)\n",
        "\n",
        "with open('tfidf_vectorizer.pkl', 'wb') as f:\n",
        "    pickle.dump(tfidf_vectorizer, f)\n",
        "\n",
        "# Save results\n",
        "comparison_df.to_csv('baseline_model_comparison.csv', index=False)\n",
        "\n",
        "print(\"✓ Models and results saved!\")\n",
        "print(\"  - best_baseline_model.pkl\")\n",
        "print(\"  - tfidf_vectorizer.pkl\")\n",
        "print(\"  - baseline_model_comparison.csv\")"
      ],
      "metadata": {
        "colab": {
          "base_uri": "https://localhost:8080/"
        },
        "id": "TblpE_eotxbX",
        "outputId": "8a069f66-864e-47b2-a294-e4e419b786b6"
      },
      "execution_count": 58,
      "outputs": [
        {
          "output_type": "stream",
          "name": "stdout",
          "text": [
            "✓ Models and results saved!\n",
            "  - best_baseline_model.pkl\n",
            "  - tfidf_vectorizer.pkl\n",
            "  - baseline_model_comparison.csv\n"
          ]
        }
      ]
    },
    {
      "cell_type": "code",
      "source": [
        "# Add this cell to document your results\n",
        "print(\"\\n\" + \"=\"*70)\n",
        "print(\"PHASE 1 & 2 COMPLETION SUMMARY\")\n",
        "print(\"=\"*70)\n",
        "\n",
        "print(\"\\n📊 DATASET INFORMATION:\")\n",
        "print(f\"  Total samples: {len(train_df) + len(val_df) + len(test_df)}\")\n",
        "print(f\"  Training: {len(train_df)} | Validation: {len(val_df)} | Test: {len(test_df)}\")\n",
        "print(f\"  Fake news: {(train_df['binary_label']==0).sum()} (43.83%)\")\n",
        "print(f\"  Real news: {(train_df['binary_label']==1).sum()} (56.17%)\")\n",
        "\n",
        "print(\"\\n🔧 PREPROCESSING:\")\n",
        "print(\"  ✓ Missing values handled\")\n",
        "print(\"  ✓ Text cleaned (lowercase, punctuation removed)\")\n",
        "print(\"  ✓ Tokenization and lemmatization applied\")\n",
        "print(\"  ✓ Stopwords removed\")\n",
        "\n",
        "print(\"\\n🎯 MODELS TRAINED:\")\n",
        "print(\"  1. Logistic Regression\")\n",
        "print(\"  2. Naive Bayes (Best Model)\")\n",
        "print(\"  3. Tuned Logistic Regression \")\n",
        "\n",
        "print(\"\\n📈 BEST MODEL PERFORMANCE:\")\n",
        "print(f\"  Model: [Naive Bayes]\")\n",
        "print(f\"  Accuracy: [61.01%]\")\n",
        "print(f\"  F1-Score: [0.6916]\")\n",
        "print(f\"  ROC-AUC: [0.6504]\")\n",
        "\n",
        "print(\"\\n✅ FILES SAVED:\")\n",
        "print(\"  • best_baseline_model.pkl\")\n",
        "print(\"  • tfidf_vectorizer.pkl\")\n",
        "print(\"  • baseline_model_comparison.csv\")\n",
        "\n",
        "print(\"\\n\" + \"=\"*70)\n",
        "print(\"🎉 READY FOR PHASE 3: Word Embeddings + MLP\")\n",
        "print(\"=\"*70 + \"\\n\")"
      ],
      "metadata": {
        "colab": {
          "base_uri": "https://localhost:8080/"
        },
        "id": "BuWjnT_Bu6B7",
        "outputId": "98011a9c-bc7d-4ce2-f686-df327c564f91"
      },
      "execution_count": 60,
      "outputs": [
        {
          "output_type": "stream",
          "name": "stdout",
          "text": [
            "\n",
            "======================================================================\n",
            "PHASE 1 & 2 COMPLETION SUMMARY\n",
            "======================================================================\n",
            "\n",
            "📊 DATASET INFORMATION:\n",
            "  Total samples: 12791\n",
            "  Training: 10240 | Validation: 1284 | Test: 1267\n",
            "  Fake news: 4488 (43.83%)\n",
            "  Real news: 5752 (56.17%)\n",
            "\n",
            "🔧 PREPROCESSING:\n",
            "  ✓ Missing values handled\n",
            "  ✓ Text cleaned (lowercase, punctuation removed)\n",
            "  ✓ Tokenization and lemmatization applied\n",
            "  ✓ Stopwords removed\n",
            "\n",
            "🎯 MODELS TRAINED:\n",
            "  1. Logistic Regression\n",
            "  2. Naive Bayes (Best Model)\n",
            "  3. Tuned Logistic Regression \n",
            "\n",
            "📈 BEST MODEL PERFORMANCE:\n",
            "  Model: [Naive Bayes]\n",
            "  Accuracy: [61.01%]\n",
            "  F1-Score: [0.6916]\n",
            "  ROC-AUC: [0.6504]\n",
            "\n",
            "✅ FILES SAVED:\n",
            "  • best_baseline_model.pkl\n",
            "  • tfidf_vectorizer.pkl\n",
            "  • baseline_model_comparison.csv\n",
            "\n",
            "======================================================================\n",
            "🎉 READY FOR PHASE 3: Word Embeddings + MLP\n",
            "======================================================================\n",
            "\n"
          ]
        }
      ]
    }
  ],
  "metadata": {
    "kernelspec": {
      "display_name": "Python 3",
      "language": "python",
      "name": "python3"
    },
    "language_info": {
      "codemirror_mode": {
        "name": "ipython",
        "version": 3
      },
      "file_extension": ".py",
      "mimetype": "text/x-python",
      "name": "python",
      "nbconvert_exporter": "python",
      "pygments_lexer": "ipython3",
      "version": "3.8.0"
    },
    "colab": {
      "provenance": []
    }
  },
  "nbformat": 4,
  "nbformat_minor": 0
}